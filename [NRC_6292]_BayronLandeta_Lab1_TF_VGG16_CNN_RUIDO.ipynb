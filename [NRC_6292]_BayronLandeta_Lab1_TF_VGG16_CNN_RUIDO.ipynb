{
  "cells": [
    {
      "cell_type": "code",
      "execution_count": null,
      "metadata": {
        "id": "iq2Hhai5liiu"
      },
      "outputs": [],
      "source": [
        "import pandas as pd\n",
        "from PIL import Image\n",
        "import numpy as np\n",
        "import matplotlib.pyplot as plt\n",
        "import keras\n",
        "from sklearn.model_selection import train_test_split\n",
        "from keras.layers import Conv2D, MaxPool2D, AveragePooling2D, Input, BatchNormalization, MaxPooling2D, Activation, Flatten, Dense, Dropout\n",
        "from keras.models import Model\n",
        "import tensorflow as tf\n",
        "from tensorflow.keras.utils import to_categorical\n",
        "from sklearn.metrics import classification_report\n",
        "from imblearn.over_sampling import RandomOverSampler\n",
        "from keras.preprocessing import image\n",
        "import scipy\n",
        "import os\n",
        "import cv2\n",
        "from tensorflow.keras.callbacks import EarlyStopping\n",
        "import time\n",
        "from sklearn.metrics import accuracy_score, precision_score, recall_score, f1_score"
      ]
    },
    {
      "cell_type": "code",
      "execution_count": null,
      "metadata": {
        "id": "eWlzFBxAmBhg"
      },
      "outputs": [],
      "source": [
        "data = pd.read_csv('/content/drive/MyDrive/fer2013.csv')\n",
        "data.head()\n",
        "\n",
        "pixel_data = data['pixels']\n",
        "label_data = data['emotion']"
      ]
    },
    {
      "cell_type": "code",
      "source": [
        "def expand_greyscale_image_channels(grey_image):\n",
        "    grey_image_arr = np.array(grey_image)\n",
        "    grey_image_arr = np.expand_dims(grey_image_arr, -1)\n",
        "    grey_image_arr_3_channel = grey_image_arr.repeat(3, axis=-1)\n",
        "    return grey_image_arr_3_channel"
      ],
      "metadata": {
        "id": "4SFKqRD827Ar"
      },
      "execution_count": null,
      "outputs": []
    },
    {
      "cell_type": "code",
      "execution_count": null,
      "metadata": {
        "id": "WDppGkppwrAQ"
      },
      "outputs": [],
      "source": [
        "def preprocess_pixels(pixel_data):\n",
        "  images = []\n",
        "  for i in range(len(pixel_data)):\n",
        "    img = np.fromstring(pixel_data[i], dtype='int', sep=' ')\n",
        "    img = img.reshape(48,48)\n",
        "    img = expand_greyscale_image_channels(img)\n",
        "    images.append(img)\n",
        "\n",
        "  X = np.array(images)\n",
        "\n",
        " \n",
        "\n",
        "  return X"
      ]
    },
    {
      "cell_type": "code",
      "execution_count": null,
      "metadata": {
        "id": "3TK4rzC3wtqA"
      },
      "outputs": [],
      "source": [
        "oversampler = RandomOverSampler(sampling_strategy='auto')\n",
        "\n",
        "X_over, Y_over = oversampler.fit_resample(pixel_data.values.reshape(-1,1), label_data)\n",
        "\n",
        "X_over_series = pd.Series(X_over.flatten())"
      ]
    },
    {
      "cell_type": "code",
      "execution_count": null,
      "metadata": {
        "id": "s_DHhOFvwy8c"
      },
      "outputs": [],
      "source": [
        "X = preprocess_pixels(X_over_series)\n",
        "Y = Y_over\n",
        "Y = Y.values.reshape(-1,1)"
      ]
    },
    {
      "cell_type": "code",
      "source": [
        "print(\"Images shape = \",X.shape,\"\\nLabels shape = \",Y.shape)\n",
        "print(type(X),type(Y))"
      ],
      "metadata": {
        "colab": {
          "base_uri": "https://localhost:8080/"
        },
        "id": "Ov1qzuHluQsU",
        "outputId": "6b2ac88f-4947-4894-afaa-f5e855f4de12"
      },
      "execution_count": null,
      "outputs": [
        {
          "output_type": "stream",
          "name": "stdout",
          "text": [
            "Images shape =  (62923, 48, 48, 3) \n",
            "Labels shape =  (62923, 1)\n",
            "<class 'numpy.ndarray'> <class 'numpy.ndarray'>\n"
          ]
        }
      ]
    },
    {
      "cell_type": "code",
      "source": [
        "def display_rand_images(images, labels):\n",
        "    \n",
        "    plt.figure(1 , figsize = (19 , 10))\n",
        "    n = 0 \n",
        "    for i in range(9):\n",
        "        n += 1 \n",
        "        r = np.random.randint(0 , images.shape[0] , 1)\n",
        "        \n",
        "        plt.subplot(3 , 3 , n)\n",
        "        plt.subplots_adjust(hspace = 0.3 , wspace = 0.3)\n",
        "        plt.imshow(images[r[0]])\n",
        "        \n",
        "        plt.title('Emotion : {}'.format(labels[r[0]]))\n",
        "        plt.xticks([])\n",
        "        plt.yticks([])\n",
        "        \n",
        "    plt.show()\n",
        "    \n",
        "display_rand_images(X, Y)\n",
        "#0=Angry, 1=Disgust, 2=Fear, 3=Happy, 4=Sad, 5=Surprise, 6=Neutral"
      ],
      "metadata": {
        "colab": {
          "base_uri": "https://localhost:8080/",
          "height": 594
        },
        "id": "LWMQKmi88ddx",
        "outputId": "564ba865-c6fc-42c0-d2aa-c8e5146ff6eb"
      },
      "execution_count": null,
      "outputs": [
        {
          "output_type": "display_data",
          "data": {
            "text/plain": [
              "<Figure size 1368x720 with 9 Axes>"
            ],
            "image/png": "[encoded data removed]"
          },
          "metadata": {}
        }
      ]
    },
    {
      "cell_type": "code",
      "source": [
        "#1-step in data shuffling\n",
        "\n",
        "#get equally spaced numbers in a given range\n",
        "n = np.arange(X.shape[0])\n",
        "print(\"'n' values before shuffling = \",n)\n",
        "\n",
        "#shuffle all the equally spaced values in list 'n'\n",
        "np.random.seed(45)\n",
        "np.random.shuffle(n)\n",
        "print(\"\\n'n' values after shuffling = \",n)"
      ],
      "metadata": {
        "colab": {
          "base_uri": "https://localhost:8080/"
        },
        "id": "ImKRxv_CK2Eh",
        "outputId": "cf9d5e4e-4560-4c50-a367-0a5f567ca016"
      },
      "execution_count": null,
      "outputs": [
        {
          "output_type": "stream",
          "name": "stdout",
          "text": [
            "'n' values before shuffling =  [    0     1     2 ... 62920 62921 62922]\n",
            "\n",
            "'n' values after shuffling =  [62634  6425 11709 ...  6012  6558 56267]\n"
          ]
        }
      ]
    },
    {
      "cell_type": "code",
      "source": [
        "#2-step in data shuffling\n",
        "\n",
        "#shuffle images and corresponding labels data in both the lists\n",
        "X = X[n]\n",
        "Y = Y[n]\n",
        "\n",
        "print(\"Images shape after shuffling = \",X.shape,\"\\nLabels shape after shuffling = \",Y.shape)"
      ],
      "metadata": {
        "colab": {
          "base_uri": "https://localhost:8080/"
        },
        "id": "yeW2p8bcK4rJ",
        "outputId": "6ff61578-3065-4cb2-f389-09620ffec0c7"
      },
      "execution_count": null,
      "outputs": [
        {
          "output_type": "stream",
          "name": "stdout",
          "text": [
            "Images shape after shuffling =  (62923, 48, 48, 3) \n",
            "Labels shape after shuffling =  (62923, 1)\n"
          ]
        }
      ]
    },
    {
      "cell_type": "code",
      "source": [
        "X = X.astype(np.float32)\n",
        "Y = Y.astype(np.int32)\n",
        "X = X/255\n",
        "print(\"Images shape after normalization = \",X.shape)"
      ],
      "metadata": {
        "colab": {
          "base_uri": "https://localhost:8080/"
        },
        "id": "hlVekft8K6tc",
        "outputId": "8301deda-67c9-46b1-a316-0b7f275ee6bb"
      },
      "execution_count": null,
      "outputs": [
        {
          "output_type": "stream",
          "name": "stdout",
          "text": [
            "Images shape after normalization =  (62923, 48, 48, 3)\n"
          ]
        }
      ]
    },
    {
      "cell_type": "code",
      "execution_count": null,
      "metadata": {
        "colab": {
          "base_uri": "https://localhost:8080/"
        },
        "id": "Lk_GJkbxxYFf",
        "outputId": "745ba0cc-b41b-406e-ed99-92a2b9d2260f"
      },
      "outputs": [
        {
          "output_type": "stream",
          "name": "stdout",
          "text": [
            "x_train shape =  (37753, 48, 48, 3)\n",
            "y_train shape =  (37753, 1)\n",
            "\n",
            "x_test shape =  (12585, 48, 48, 3)\n",
            "y_test shape =  (12585, 1)\n",
            "\n",
            "x_val shape =  (12585, 48, 48, 3)\n",
            "y_val shape =  (12585, 1)\n"
          ]
        }
      ],
      "source": [
        "X_train, X_test, Y_train, Y_test = train_test_split(X, Y, test_size = 0.2, random_state = 45)\n",
        "\n",
        "X_val = X_train[:12585]\n",
        "Y_val = Y_train[:12585]\n",
        "X_train = X_train[12585:]\n",
        "Y_train = Y_train[12585:]\n",
        "\n",
        "print(\"x_train shape = \",X_train.shape)\n",
        "print(\"y_train shape = \",Y_train.shape)\n",
        "print(\"\\nx_test shape = \",X_test.shape)\n",
        "print(\"y_test shape = \",Y_test.shape)\n",
        "\n",
        "print(\"\\nx_val shape = \",X_val.shape)\n",
        "print(\"y_val shape = \",Y_val.shape)"
      ]
    },
    {
      "cell_type": "code",
      "execution_count": null,
      "metadata": {
        "id": "Mv_vDPixyHGA"
      },
      "outputs": [],
      "source": [
        "y_train = to_categorical(Y_train, num_classes=7)\n",
        "y_test = to_categorical(Y_test, num_classes=7)\n",
        "y_val = to_categorical(Y_val, num_classes=7)"
      ]
    },
    {
      "cell_type": "code",
      "execution_count": null,
      "metadata": {
        "colab": {
          "base_uri": "https://localhost:8080/"
        },
        "id": "XnpnygZ4yJDT",
        "outputId": "91c3aff5-8cdc-4d1f-c61e-9ed1214e45d4"
      },
      "outputs": [
        {
          "output_type": "execute_result",
          "data": {
            "text/plain": [
              "((37753, 7), (12585, 7), (12585, 7))"
            ]
          },
          "metadata": {},
          "execution_count": 14
        }
      ],
      "source": [
        "y_train.shape, y_test.shape, y_val.shape"
      ]
    },
    {
      "cell_type": "code",
      "source": [
        "pre_trained_model = tf.keras.applications.VGG16(input_shape=X_train[0].shape, include_top=False, weights=\"imagenet\")"
      ],
      "metadata": {
        "id": "xCo31Zb5WiBn"
      },
      "execution_count": null,
      "outputs": []
    },
    {
      "cell_type": "code",
      "source": [
        "model = tf.keras.models.Sequential()\n",
        "\n",
        "model.add(pre_trained_model)\n",
        "model.add(tf.keras.layers.Flatten())\n",
        "model.add(tf.keras.layers.Dense(512, activation='relu'))\n",
        "model.add(tf.keras.layers.Dense(7, activation='softmax'))"
      ],
      "metadata": {
        "id": "k3Q0xX5nMOis"
      },
      "execution_count": null,
      "outputs": []
    },
    {
      "cell_type": "code",
      "source": [
        "pre_trained_model.trainable = True\n",
        "set_trainable = False\n",
        "for layer in pre_trained_model.layers:\n",
        "    print(layer.name)\n",
        "    if layer.name == 'block5_conv1':\n",
        "        set_trainable = True\n",
        "    if set_trainable:\n",
        "        layer.trainable = True\n",
        "    else:\n",
        "        layer.trainable = False"
      ],
      "metadata": {
        "colab": {
          "base_uri": "https://localhost:8080/"
        },
        "id": "CiaDGJWfW78A",
        "outputId": "7338af7f-b7f2-426b-b795-e0c2cb2063b2"
      },
      "execution_count": null,
      "outputs": [
        {
          "output_type": "stream",
          "name": "stdout",
          "text": [
            "input_1\n",
            "block1_conv1\n",
            "block1_conv2\n",
            "block1_pool\n",
            "block2_conv1\n",
            "block2_conv2\n",
            "block2_pool\n",
            "block3_conv1\n",
            "block3_conv2\n",
            "block3_conv3\n",
            "block3_pool\n",
            "block4_conv1\n",
            "block4_conv2\n",
            "block4_conv3\n",
            "block4_pool\n",
            "block5_conv1\n",
            "block5_conv2\n",
            "block5_conv3\n",
            "block5_pool\n"
          ]
        }
      ]
    },
    {
      "cell_type": "code",
      "execution_count": null,
      "metadata": {
        "colab": {
          "base_uri": "https://localhost:8080/"
        },
        "id": "Hrmxt6x5x91v",
        "outputId": "e4e7633e-5213-4e43-beed-e6f859d077fb"
      },
      "outputs": [
        {
          "output_type": "stream",
          "name": "stdout",
          "text": [
            "Model: \"sequential\"\n",
            "_________________________________________________________________\n",
            " Layer (type)                Output Shape              Param #   \n",
            "=================================================================\n",
            " vgg16 (Functional)          (None, 1, 1, 512)         14714688  \n",
            "                                                                 \n",
            " flatten (Flatten)           (None, 512)               0         \n",
            "                                                                 \n",
            " dense (Dense)               (None, 512)               262656    \n",
            "                                                                 \n",
            " dense_1 (Dense)             (None, 7)                 3591      \n",
            "                                                                 \n",
            "=================================================================\n",
            "Total params: 14,980,935\n",
            "Trainable params: 7,345,671\n",
            "Non-trainable params: 7,635,264\n",
            "_________________________________________________________________\n"
          ]
        }
      ],
      "source": [
        "model.summary()"
      ]
    },
    {
      "cell_type": "code",
      "source": [
        "adam = tf.keras.optimizers.Adam(learning_rate=0.0001)\n",
        "model.compile(optimizer=adam, loss='categorical_crossentropy', metrics=['accuracy'])"
      ],
      "metadata": {
        "id": "y6gfqhp6XMSt"
      },
      "execution_count": null,
      "outputs": []
    },
    {
      "cell_type": "code",
      "execution_count": null,
      "metadata": {
        "id": "3C87YM5gyCfq"
      },
      "outputs": [],
      "source": [
        "es = EarlyStopping(monitor='val_loss', mode='min', verbose=1, patience=20)"
      ]
    },
    {
      "cell_type": "code",
      "source": [
        "X_train.shape,y_train.shape"
      ],
      "metadata": {
        "colab": {
          "base_uri": "https://localhost:8080/"
        },
        "id": "pJcTsXHGwZRQ",
        "outputId": "29df0da3-98af-4fe4-a0dd-07abb7d081bf"
      },
      "execution_count": null,
      "outputs": [
        {
          "output_type": "execute_result",
          "data": {
            "text/plain": [
              "((37753, 48, 48, 3), (37753, 7))"
            ]
          },
          "metadata": {},
          "execution_count": 21
        }
      ]
    },
    {
      "cell_type": "code",
      "source": [
        "start_time = time.time()\n",
        "\n",
        "history = model.fit(X_train, y_train,\n",
        "    epochs = 15,\n",
        "    validation_data=(X_val, y_val),\n",
        "    callbacks=[es],\n",
        "    verbose=1)\n",
        "\n",
        "print(\"Training Execution Time:\" + time.strftime(\"%H:%M:%S\", time.gmtime(time.time() - start_time)))"
      ],
      "metadata": {
        "colab": {
          "base_uri": "https://localhost:8080/"
        },
        "id": "nLtqoS_aweKY",
        "outputId": "dc4e27b9-19f6-4039-b912-f832a76112ea"
      },
      "execution_count": null,
      "outputs": [
        {
          "output_type": "stream",
          "name": "stdout",
          "text": [
            "Epoch 1/15\n",
            "1180/1180 [==============================] - 1693s 1s/step - loss: 1.3442 - accuracy: 0.4911 - val_loss: 1.1613 - val_accuracy: 0.5501\n",
            "Epoch 2/15\n",
            "1180/1180 [==============================] - 1706s 1s/step - loss: 0.9722 - accuracy: 0.6354 - val_loss: 0.9901 - val_accuracy: 0.6266\n",
            "Epoch 3/15\n",
            "1180/1180 [==============================] - 1709s 1s/step - loss: 0.7577 - accuracy: 0.7223 - val_loss: 0.8711 - val_accuracy: 0.6890\n",
            "Epoch 4/15\n",
            "1180/1180 [==============================] - 1723s 1s/step - loss: 0.5472 - accuracy: 0.8065 - val_loss: 0.8666 - val_accuracy: 0.7086\n",
            "Epoch 5/15\n",
            "1180/1180 [==============================] - 1719s 1s/step - loss: 0.3770 - accuracy: 0.8696 - val_loss: 0.9128 - val_accuracy: 0.7332\n",
            "Epoch 6/15\n",
            "1180/1180 [==============================] - 1719s 1s/step - loss: 0.2531 - accuracy: 0.9143 - val_loss: 0.8884 - val_accuracy: 0.7544\n",
            "Epoch 7/15\n",
            "1180/1180 [==============================] - 1726s 1s/step - loss: 0.1747 - accuracy: 0.9426 - val_loss: 0.9876 - val_accuracy: 0.7634\n",
            "Epoch 8/15\n",
            "1180/1180 [==============================] - 1736s 1s/step - loss: 0.1337 - accuracy: 0.9557 - val_loss: 0.9764 - val_accuracy: 0.7720\n",
            "Epoch 9/15\n",
            "1180/1180 [==============================] - 1728s 1s/step - loss: 0.1223 - accuracy: 0.9593 - val_loss: 1.0488 - val_accuracy: 0.7695\n",
            "Epoch 10/15\n",
            "1180/1180 [==============================] - 1739s 1s/step - loss: 0.0987 - accuracy: 0.9675 - val_loss: 1.0941 - val_accuracy: 0.7691\n",
            "Epoch 11/15\n",
            "1180/1180 [==============================] - 1758s 1s/step - loss: 0.0946 - accuracy: 0.9689 - val_loss: 1.1509 - val_accuracy: 0.7680\n",
            "Epoch 12/15\n",
            "1180/1180 [==============================] - 1737s 1s/step - loss: 0.0861 - accuracy: 0.9709 - val_loss: 1.2129 - val_accuracy: 0.7661\n",
            "Epoch 13/15\n",
            "1180/1180 [==============================] - 1708s 1s/step - loss: 0.0826 - accuracy: 0.9720 - val_loss: 1.1966 - val_accuracy: 0.7767\n",
            "Epoch 14/15\n",
            "1180/1180 [==============================] - 1694s 1s/step - loss: 0.0694 - accuracy: 0.9749 - val_loss: 1.2164 - val_accuracy: 0.7812\n",
            "Epoch 15/15\n",
            "1180/1180 [==============================] - 1716s 1s/step - loss: 0.0703 - accuracy: 0.9762 - val_loss: 1.2800 - val_accuracy: 0.7723\n",
            "Training Execution Time:07:10:24\n"
          ]
        }
      ]
    },
    {
      "cell_type": "code",
      "execution_count": null,
      "metadata": {
        "id": "UurhGK6Vy8dg",
        "colab": {
          "base_uri": "https://localhost:8080/"
        },
        "outputId": "7e2267cc-2aa3-48c1-9871-c15de969776c"
      },
      "outputs": [
        {
          "output_type": "stream",
          "name": "stdout",
          "text": [
            "394/394 [==============================] - 311s 789ms/step - loss: 1.2376 - accuracy: 0.7794\n",
            "test_loss: 123.76\n",
            "test_accuracy: 77.94\n"
          ]
        }
      ],
      "source": [
        "loss, accuracy = model.evaluate(X_test,y_test)\n",
        "print('test_loss: %.2f' % (loss * 100.0))  \n",
        "print('test_accuracy: %.2f' % (accuracy * 100.0))"
      ]
    },
    {
      "cell_type": "code",
      "source": [
        "model_probs = model.predict(X_test,verbose=0)\n",
        "# predict crisp classes for test set\n",
        "model_classes = np.argmax(model_probs,axis=1)\n",
        "# reduce to 1d array\n",
        "model_probs = model_probs[:, 0]\n",
        "\n",
        "y_test_reduced = np.argmax(y_test,axis=1)\n",
        " \n",
        "# accuracy: (tp + tn) / (p + n)\n",
        "accuracy = accuracy_score(y_test_reduced, model_classes)*100\n",
        "# precision tp / (tp + fp)\n",
        "precision = precision_score(y_test_reduced, model_classes, average='weighted')*100\n",
        "# recall: tp / (tp + fn)\n",
        "recall = recall_score(y_test_reduced, model_classes, average='weighted')*100\n",
        "# f1: 2 tp / (2 tp + fp + fn)\n",
        "f1 = f1_score(y_test_reduced, model_classes, average='weighted')*100\n",
        "\n",
        "print('Accuracy: %.2f' % accuracy)\n",
        "print('F1 score: %.2f' % f1)\n",
        "print('Precision: %.2f' % precision)\n",
        "print('Recall: %.2f' % recall)"
      ],
      "metadata": {
        "colab": {
          "base_uri": "https://localhost:8080/"
        },
        "id": "KGAWiw_xvjl6",
        "outputId": "d65cd3d5-348f-4644-e790-4b00697fb061"
      },
      "execution_count": null,
      "outputs": [
        {
          "output_type": "stream",
          "name": "stdout",
          "text": [
            "Accuracy: 77.94\n",
            "F1 score: 77.93\n",
            "Precision: 78.04\n",
            "Recall: 77.94\n"
          ]
        }
      ]
    }
  ],
  "metadata": {
    "colab": {
      "name": "landeta_cnn_4.ipynb",
      "provenance": [],
      "collapsed_sections": []
    },
    "kernelspec": {
      "display_name": "Python 3",
      "name": "python3"
    },
    "language_info": {
      "name": "python"
    }
  },
  "nbformat": 4,
  "nbformat_minor": 0
}