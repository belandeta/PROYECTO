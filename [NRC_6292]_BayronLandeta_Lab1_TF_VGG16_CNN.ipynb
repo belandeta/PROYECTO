{
  "cells": [
    {
      "cell_type": "code",
      "execution_count": 29,
      "metadata": {
        "id": "iq2Hhai5liiu"
      },
      "outputs": [],
      "source": [
        "import pandas as pd\n",
        "from PIL import Image\n",
        "import numpy as np\n",
        "import matplotlib.pyplot as plt\n",
        "import keras\n",
        "from sklearn.model_selection import train_test_split\n",
        "from keras.layers import Conv2D, MaxPool2D, AveragePooling2D, Input, BatchNormalization, MaxPooling2D, Activation, Flatten, Dense, Dropout\n",
        "from keras.models import Model\n",
        "import tensorflow as tf\n",
        "from tensorflow.keras.utils import to_categorical\n",
        "from sklearn.metrics import classification_report\n",
        "from imblearn.over_sampling import RandomOverSampler\n",
        "from keras.preprocessing import image\n",
        "import scipy\n",
        "import os\n",
        "import cv2\n",
        "from tensorflow.keras.callbacks import EarlyStopping\n",
        "import time\n",
        "from sklearn.metrics import accuracy_score, precision_score, recall_score, f1_score, confusion_matrix\n",
        "import seaborn as sns"
      ]
    },
    {
      "cell_type": "code",
      "execution_count": 2,
      "metadata": {
        "id": "eWlzFBxAmBhg",
        "colab": {
          "base_uri": "https://localhost:8080/",
          "height": 206
        },
        "outputId": "1f5f85a0-15d8-402c-edeb-935ccc700aaa"
      },
      "outputs": [
        {
          "output_type": "execute_result",
          "data": {
            "text/plain": [
              "   emotion                                             pixels     Usage\n",
              "0        0  70 80 82 72 58 58 60 63 54 58 60 48 89 115 121...  Training\n",
              "1        0  151 150 147 155 148 133 111 140 170 174 182 15...  Training\n",
              "2        2  231 212 156 164 174 138 161 173 182 200 106 38...  Training\n",
              "3        4  24 32 36 30 32 23 19 20 30 41 21 22 32 34 21 1...  Training\n",
              "4        6  4 0 0 0 0 0 0 0 0 0 0 0 3 15 23 28 48 50 58 84...  Training"
            ],
            "text/html": [
              "\n",
              "  <div id=\"df-c29dc324-3c03-4fe0-9279-36d8b348a13d\">\n",
              "    <div class=\"colab-df-container\">\n",
              "      <div>\n",
              "<style scoped>\n",
              "    .dataframe tbody tr th:only-of-type {\n",
              "        vertical-align: middle;\n",
              "    }\n",
              "\n",
              "    .dataframe tbody tr th {\n",
              "        vertical-align: top;\n",
              "    }\n",
              "\n",
              "    .dataframe thead th {\n",
              "        text-align: right;\n",
              "    }\n",
              "</style>\n",
              "<table border=\"1\" class=\"dataframe\">\n",
              "  <thead>\n",
              "    <tr style=\"text-align: right;\">\n",
              "      <th></th>\n",
              "      <th>emotion</th>\n",
              "      <th>pixels</th>\n",
              "      <th>Usage</th>\n",
              "    </tr>\n",
              "  </thead>\n",
              "  <tbody>\n",
              "    <tr>\n",
              "      <th>0</th>\n",
              "      <td>0</td>\n",
              "      <td>70 80 82 72 58 58 60 63 54 58 60 48 89 115 121...</td>\n",
              "      <td>Training</td>\n",
              "    </tr>\n",
              "    <tr>\n",
              "      <th>1</th>\n",
              "      <td>0</td>\n",
              "      <td>151 150 147 155 148 133 111 140 170 174 182 15...</td>\n",
              "      <td>Training</td>\n",
              "    </tr>\n",
              "    <tr>\n",
              "      <th>2</th>\n",
              "      <td>2</td>\n",
              "      <td>231 212 156 164 174 138 161 173 182 200 106 38...</td>\n",
              "      <td>Training</td>\n",
              "    </tr>\n",
              "    <tr>\n",
              "      <th>3</th>\n",
              "      <td>4</td>\n",
              "      <td>24 32 36 30 32 23 19 20 30 41 21 22 32 34 21 1...</td>\n",
              "      <td>Training</td>\n",
              "    </tr>\n",
              "    <tr>\n",
              "      <th>4</th>\n",
              "      <td>6</td>\n",
              "      <td>4 0 0 0 0 0 0 0 0 0 0 0 3 15 23 28 48 50 58 84...</td>\n",
              "      <td>Training</td>\n",
              "    </tr>\n",
              "  </tbody>\n",
              "</table>\n",
              "</div>\n",
              "      <button class=\"colab-df-convert\" onclick=\"convertToInteractive('df-c29dc324-3c03-4fe0-9279-36d8b348a13d')\"\n",
              "              title=\"Convert this dataframe to an interactive table.\"\n",
              "              style=\"display:none;\">\n",
              "        \n",
              "  <svg xmlns=\"http://www.w3.org/2000/svg\" height=\"24px\"viewBox=\"0 0 24 24\"\n",
              "       width=\"24px\">\n",
              "    <path d=\"M0 0h24v24H0V0z\" fill=\"none\"/>\n",
              "    <path d=\"M18.56 5.44l.94 2.06.94-2.06 2.06-.94-2.06-.94-.94-2.06-.94 2.06-2.06.94zm-11 1L8.5 8.5l.94-2.06 2.06-.94-2.06-.94L8.5 2.5l-.94 2.06-2.06.94zm10 10l.94 2.06.94-2.06 2.06-.94-2.06-.94-.94-2.06-.94 2.06-2.06.94z\"/><path d=\"M17.41 7.96l-1.37-1.37c-.4-.4-.92-.59-1.43-.59-.52 0-1.04.2-1.43.59L10.3 9.45l-7.72 7.72c-.78.78-.78 2.05 0 2.83L4 21.41c.39.39.9.59 1.41.59.51 0 1.02-.2 1.41-.59l7.78-7.78 2.81-2.81c.8-.78.8-2.07 0-2.86zM5.41 20L4 18.59l7.72-7.72 1.47 1.35L5.41 20z\"/>\n",
              "  </svg>\n",
              "      </button>\n",
              "      \n",
              "  <style>\n",
              "    .colab-df-container {\n",
              "      display:flex;\n",
              "      flex-wrap:wrap;\n",
              "      gap: 12px;\n",
              "    }\n",
              "\n",
              "    .colab-df-convert {\n",
              "      background-color: #E8F0FE;\n",
              "      border: none;\n",
              "      border-radius: 50%;\n",
              "      cursor: pointer;\n",
              "      display: none;\n",
              "      fill: #1967D2;\n",
              "      height: 32px;\n",
              "      padding: 0 0 0 0;\n",
              "      width: 32px;\n",
              "    }\n",
              "\n",
              "    .colab-df-convert:hover {\n",
              "      background-color: #E2EBFA;\n",
              "      box-shadow: 0px 1px 2px rgba(60, 64, 67, 0.3), 0px 1px 3px 1px rgba(60, 64, 67, 0.15);\n",
              "      fill: #174EA6;\n",
              "    }\n",
              "\n",
              "    [theme=dark] .colab-df-convert {\n",
              "      background-color: #3B4455;\n",
              "      fill: #D2E3FC;\n",
              "    }\n",
              "\n",
              "    [theme=dark] .colab-df-convert:hover {\n",
              "      background-color: #434B5C;\n",
              "      box-shadow: 0px 1px 3px 1px rgba(0, 0, 0, 0.15);\n",
              "      filter: drop-shadow(0px 1px 2px rgba(0, 0, 0, 0.3));\n",
              "      fill: #FFFFFF;\n",
              "    }\n",
              "  </style>\n",
              "\n",
              "      <script>\n",
              "        const buttonEl =\n",
              "          document.querySelector('#df-c29dc324-3c03-4fe0-9279-36d8b348a13d button.colab-df-convert');\n",
              "        buttonEl.style.display =\n",
              "          google.colab.kernel.accessAllowed ? 'block' : 'none';\n",
              "\n",
              "        async function convertToInteractive(key) {\n",
              "          const element = document.querySelector('#df-c29dc324-3c03-4fe0-9279-36d8b348a13d');\n",
              "          const dataTable =\n",
              "            await google.colab.kernel.invokeFunction('convertToInteractive',\n",
              "                                                     [key], {});\n",
              "          if (!dataTable) return;\n",
              "\n",
              "          const docLinkHtml = 'Like what you see? Visit the ' +\n",
              "            '<a target=\"_blank\" href=https://colab.research.google.com/notebooks/data_table.ipynb>data table notebook</a>'\n",
              "            + ' to learn more about interactive tables.';\n",
              "          element.innerHTML = '';\n",
              "          dataTable['output_type'] = 'display_data';\n",
              "          await google.colab.output.renderOutput(dataTable, element);\n",
              "          const docLink = document.createElement('div');\n",
              "          docLink.innerHTML = docLinkHtml;\n",
              "          element.appendChild(docLink);\n",
              "        }\n",
              "      </script>\n",
              "    </div>\n",
              "  </div>\n",
              "  "
            ]
          },
          "metadata": {},
          "execution_count": 2
        }
      ],
      "source": [
        "data = pd.read_csv('/content/drive/MyDrive/fer2013.csv')\n",
        "data.head()"
      ]
    },
    {
      "cell_type": "code",
      "source": [
        "pixel_data = data['pixels']\n",
        "label_data = data['emotion']"
      ],
      "metadata": {
        "id": "0mj-7ZeycDsL"
      },
      "execution_count": 3,
      "outputs": []
    },
    {
      "cell_type": "code",
      "execution_count": 5,
      "metadata": {
        "id": "WDppGkppwrAQ"
      },
      "outputs": [],
      "source": [
        "def preprocess_pixels(pixel_data):\n",
        "  images = []\n",
        "  for i in range(len(pixel_data)):\n",
        "    img = np.fromstring(pixel_data[i], dtype=np.uint8, sep=' ')\n",
        "    img = cv2.cvtColor(img, cv2.COLOR_GRAY2BGR)\n",
        "    img = img.reshape(48,48,3)\n",
        "    img = cv2.fastNlMeansDenoisingColored(img,None,10,10,7,21)\n",
        "    #img = expand_greyscale_image_channels(img)\n",
        "    #b,g,r = cv2.split(img)\n",
        "    #img = cv2.merge([r,g,b])\n",
        "    images.append(img)\n",
        "\n",
        "  X = np.array(images)\n",
        "\n",
        " \n",
        "\n",
        "  return X"
      ]
    },
    {
      "cell_type": "code",
      "execution_count": 6,
      "metadata": {
        "id": "3TK4rzC3wtqA"
      },
      "outputs": [],
      "source": [
        "oversampler = RandomOverSampler(sampling_strategy='auto')\n",
        "\n",
        "X_over, Y_over = oversampler.fit_resample(pixel_data.values.reshape(-1,1), label_data)\n",
        "\n",
        "X_over_series = pd.Series(X_over.flatten())"
      ]
    },
    {
      "cell_type": "code",
      "execution_count": 7,
      "metadata": {
        "id": "s_DHhOFvwy8c"
      },
      "outputs": [],
      "source": [
        "X = preprocess_pixels(X_over_series)\n",
        "Y = Y_over\n",
        "Y = Y.values.reshape(-1,1)"
      ]
    },
    {
      "cell_type": "code",
      "source": [
        "print(\"Images shape = \",X.shape,\"\\nLabels shape = \",Y.shape)\n",
        "print(type(X),type(Y))"
      ],
      "metadata": {
        "colab": {
          "base_uri": "https://localhost:8080/"
        },
        "id": "Ov1qzuHluQsU",
        "outputId": "09ae019b-69d4-474a-901e-6363e355a09a"
      },
      "execution_count": 8,
      "outputs": [
        {
          "output_type": "stream",
          "name": "stdout",
          "text": [
            "Images shape =  (62923, 48, 48, 3) \n",
            "Labels shape =  (62923, 1)\n",
            "<class 'numpy.ndarray'> <class 'numpy.ndarray'>\n"
          ]
        }
      ]
    },
    {
      "cell_type": "code",
      "source": [
        "def display_rand_images(images, labels):\n",
        "    \n",
        "    plt.figure(1 , figsize = (19 , 10))\n",
        "    n = 0 \n",
        "    for i in range(9):\n",
        "        n += 1 \n",
        "        r = np.random.randint(0 , images.shape[0] , 1)\n",
        "        \n",
        "        plt.subplot(3 , 3 , n)\n",
        "        plt.subplots_adjust(hspace = 0.3 , wspace = 0.3)\n",
        "        plt.imshow(images[r[0]])\n",
        "        \n",
        "        plt.title('Emotion : {}'.format(labels[r[0]]))\n",
        "        plt.xticks([])\n",
        "        plt.yticks([])\n",
        "        \n",
        "    plt.show()\n",
        "    \n",
        "display_rand_images(X, Y)\n",
        "#0=Angry, 1=Disgust, 2=Fear, 3=Happy, 4=Sad, 5=Surprise, 6=Neutral"
      ],
      "metadata": {
        "colab": {
          "base_uri": "https://localhost:8080/",
          "height": 594
        },
        "id": "LWMQKmi88ddx",
        "outputId": "3be2ee8c-e786-4315-f3c8-a6ce7f1d0de2"
      },
      "execution_count": 9,
      "outputs": [
        {
          "output_type": "display_data",
          "data": {
            "text/plain": [
              "<Figure size 1368x720 with 9 Axes>"
            ],
            "image/png": "[encoded data removed]"
          },
          "metadata": {}
        }
      ]
    },
    {
      "cell_type": "code",
      "source": [
        "#1-step in data shuffling\n",
        "\n",
        "#get equally spaced numbers in a given range\n",
        "n = np.arange(X.shape[0])\n",
        "print(\"'n' values before shuffling = \",n)\n",
        "\n",
        "#shuffle all the equally spaced values in list 'n'\n",
        "np.random.seed(45)\n",
        "np.random.shuffle(n)\n",
        "print(\"\\n'n' values after shuffling = \",n)"
      ],
      "metadata": {
        "colab": {
          "base_uri": "https://localhost:8080/"
        },
        "id": "ImKRxv_CK2Eh",
        "outputId": "8872a1aa-dfb4-42c2-d8cc-72a8f4a5e4c1"
      },
      "execution_count": 10,
      "outputs": [
        {
          "output_type": "stream",
          "name": "stdout",
          "text": [
            "'n' values before shuffling =  [    0     1     2 ... 62920 62921 62922]\n",
            "\n",
            "'n' values after shuffling =  [62634  6425 11709 ...  6012  6558 56267]\n"
          ]
        }
      ]
    },
    {
      "cell_type": "code",
      "source": [
        "#2-step in data shuffling\n",
        "\n",
        "#shuffle images and corresponding labels data in both the lists\n",
        "X = X[n]\n",
        "Y = Y[n]\n",
        "\n",
        "print(\"Images shape after shuffling = \",X.shape,\"\\nLabels shape after shuffling = \",Y.shape)"
      ],
      "metadata": {
        "colab": {
          "base_uri": "https://localhost:8080/"
        },
        "id": "yeW2p8bcK4rJ",
        "outputId": "42801926-c272-4644-822f-1f25274b86f1"
      },
      "execution_count": 11,
      "outputs": [
        {
          "output_type": "stream",
          "name": "stdout",
          "text": [
            "Images shape after shuffling =  (62923, 48, 48, 3) \n",
            "Labels shape after shuffling =  (62923, 1)\n"
          ]
        }
      ]
    },
    {
      "cell_type": "code",
      "source": [
        "X = X.astype(np.float32)\n",
        "Y = Y.astype(np.int32)\n",
        "X = X/255\n",
        "print(\"Images shape after normalization = \",X.shape)"
      ],
      "metadata": {
        "colab": {
          "base_uri": "https://localhost:8080/"
        },
        "id": "hlVekft8K6tc",
        "outputId": "a0519c47-1fdd-4d7c-b9d1-e995ead372c8"
      },
      "execution_count": 12,
      "outputs": [
        {
          "output_type": "stream",
          "name": "stdout",
          "text": [
            "Images shape after normalization =  (62923, 48, 48, 3)\n"
          ]
        }
      ]
    },
    {
      "cell_type": "code",
      "execution_count": 13,
      "metadata": {
        "colab": {
          "base_uri": "https://localhost:8080/"
        },
        "id": "Lk_GJkbxxYFf",
        "outputId": "d82ee67d-16b5-47ad-ddd1-aab90e92c939"
      },
      "outputs": [
        {
          "output_type": "stream",
          "name": "stdout",
          "text": [
            "x_train shape =  (37753, 48, 48, 3)\n",
            "y_train shape =  (37753, 1)\n",
            "\n",
            "x_test shape =  (12585, 48, 48, 3)\n",
            "y_test shape =  (12585, 1)\n",
            "\n",
            "x_val shape =  (12585, 48, 48, 3)\n",
            "y_val shape =  (12585, 1)\n"
          ]
        }
      ],
      "source": [
        "X_train, X_test, Y_train, Y_test = train_test_split(X, Y, test_size = 0.2, random_state = 45)\n",
        "\n",
        "X_val = X_train[:12585]\n",
        "Y_val = Y_train[:12585]\n",
        "X_train = X_train[12585:]\n",
        "Y_train = Y_train[12585:]\n",
        "\n",
        "print(\"x_train shape = \",X_train.shape)\n",
        "print(\"y_train shape = \",Y_train.shape)\n",
        "print(\"\\nx_test shape = \",X_test.shape)\n",
        "print(\"y_test shape = \",Y_test.shape)\n",
        "\n",
        "print(\"\\nx_val shape = \",X_val.shape)\n",
        "print(\"y_val shape = \",Y_val.shape)"
      ]
    },
    {
      "cell_type": "code",
      "execution_count": 14,
      "metadata": {
        "id": "Mv_vDPixyHGA"
      },
      "outputs": [],
      "source": [
        "y_train = to_categorical(Y_train, num_classes=7)\n",
        "y_test = to_categorical(Y_test, num_classes=7)\n",
        "y_val = to_categorical(Y_val, num_classes=7)"
      ]
    },
    {
      "cell_type": "code",
      "execution_count": 15,
      "metadata": {
        "colab": {
          "base_uri": "https://localhost:8080/"
        },
        "id": "XnpnygZ4yJDT",
        "outputId": "61d8eec7-f818-4684-e08a-52bf33433ca9"
      },
      "outputs": [
        {
          "output_type": "execute_result",
          "data": {
            "text/plain": [
              "((37753, 7), (12585, 7), (12585, 7))"
            ]
          },
          "metadata": {},
          "execution_count": 15
        }
      ],
      "source": [
        "y_train.shape, y_test.shape, y_val.shape"
      ]
    },
    {
      "cell_type": "code",
      "source": [
        "pre_trained_model = tf.keras.applications.VGG16(input_shape=X_train[0].shape, include_top=False, weights=\"imagenet\")"
      ],
      "metadata": {
        "id": "xCo31Zb5WiBn",
        "colab": {
          "base_uri": "https://localhost:8080/"
        },
        "outputId": "ef909ccd-44fe-4514-eaad-1c997684fbc5"
      },
      "execution_count": 16,
      "outputs": [
        {
          "output_type": "stream",
          "name": "stdout",
          "text": [
            "Downloading data from https://storage.googleapis.com/tensorflow/keras-applications/vgg16/vgg16_weights_tf_dim_ordering_tf_kernels_notop.h5\n",
            "58892288/58889256 [==============================] - 0s 0us/step\n",
            "58900480/58889256 [==============================] - 0s 0us/step\n"
          ]
        }
      ]
    },
    {
      "cell_type": "code",
      "source": [
        "model = tf.keras.models.Sequential()\n",
        "\n",
        "model.add(pre_trained_model)\n",
        "model.add(tf.keras.layers.Flatten())\n",
        "model.add(tf.keras.layers.Dense(512, activation='relu'))\n",
        "model.add(tf.keras.layers.Dense(7, activation='softmax'))"
      ],
      "metadata": {
        "id": "k3Q0xX5nMOis"
      },
      "execution_count": 17,
      "outputs": []
    },
    {
      "cell_type": "code",
      "source": [
        "pre_trained_model.trainable = True\n",
        "set_trainable = False\n",
        "for layer in pre_trained_model.layers:\n",
        "    print(layer.name)\n",
        "    if layer.name == 'block5_conv1':\n",
        "        set_trainable = True\n",
        "    if set_trainable:\n",
        "        layer.trainable = True\n",
        "    else:\n",
        "        layer.trainable = False"
      ],
      "metadata": {
        "colab": {
          "base_uri": "https://localhost:8080/"
        },
        "id": "CiaDGJWfW78A",
        "outputId": "f0a8bd7e-a013-45d6-d501-85051ba67b8b"
      },
      "execution_count": 18,
      "outputs": [
        {
          "output_type": "stream",
          "name": "stdout",
          "text": [
            "input_1\n",
            "block1_conv1\n",
            "block1_conv2\n",
            "block1_pool\n",
            "block2_conv1\n",
            "block2_conv2\n",
            "block2_pool\n",
            "block3_conv1\n",
            "block3_conv2\n",
            "block3_conv3\n",
            "block3_pool\n",
            "block4_conv1\n",
            "block4_conv2\n",
            "block4_conv3\n",
            "block4_pool\n",
            "block5_conv1\n",
            "block5_conv2\n",
            "block5_conv3\n",
            "block5_pool\n"
          ]
        }
      ]
    },
    {
      "cell_type": "code",
      "execution_count": 19,
      "metadata": {
        "colab": {
          "base_uri": "https://localhost:8080/"
        },
        "id": "Hrmxt6x5x91v",
        "outputId": "5740a7f1-4647-4c99-a570-7aeef08f5113"
      },
      "outputs": [
        {
          "output_type": "stream",
          "name": "stdout",
          "text": [
            "Model: \"sequential\"\n",
            "_________________________________________________________________\n",
            " Layer (type)                Output Shape              Param #   \n",
            "=================================================================\n",
            " vgg16 (Functional)          (None, 1, 1, 512)         14714688  \n",
            "                                                                 \n",
            " flatten (Flatten)           (None, 512)               0         \n",
            "                                                                 \n",
            " dense (Dense)               (None, 512)               262656    \n",
            "                                                                 \n",
            " dense_1 (Dense)             (None, 7)                 3591      \n",
            "                                                                 \n",
            "=================================================================\n",
            "Total params: 14,980,935\n",
            "Trainable params: 7,345,671\n",
            "Non-trainable params: 7,635,264\n",
            "_________________________________________________________________\n"
          ]
        }
      ],
      "source": [
        "model.summary()"
      ]
    },
    {
      "cell_type": "code",
      "source": [
        "adam = tf.keras.optimizers.Adam(learning_rate=0.0001)\n",
        "model.compile(optimizer=adam, loss='categorical_crossentropy', metrics=['accuracy'])"
      ],
      "metadata": {
        "id": "y6gfqhp6XMSt"
      },
      "execution_count": 20,
      "outputs": []
    },
    {
      "cell_type": "code",
      "execution_count": 21,
      "metadata": {
        "id": "3C87YM5gyCfq"
      },
      "outputs": [],
      "source": [
        "es = EarlyStopping(monitor='val_loss', mode='min', verbose=1, patience=20)"
      ]
    },
    {
      "cell_type": "code",
      "source": [
        "X_train.shape,y_train.shape"
      ],
      "metadata": {
        "colab": {
          "base_uri": "https://localhost:8080/"
        },
        "id": "pJcTsXHGwZRQ",
        "outputId": "327ef5b0-9188-42c2-9569-4b98f2fafb8d"
      },
      "execution_count": 22,
      "outputs": [
        {
          "output_type": "execute_result",
          "data": {
            "text/plain": [
              "((37753, 48, 48, 3), (37753, 7))"
            ]
          },
          "metadata": {},
          "execution_count": 22
        }
      ]
    },
    {
      "cell_type": "code",
      "source": [
        "start_time = time.time()\n",
        "\n",
        "history = model.fit(X_train, y_train,\n",
        "    epochs = 15,\n",
        "    validation_data=(X_val, y_val),\n",
        "    callbacks=[es],\n",
        "    verbose=1)\n",
        "\n",
        "print(\"Training Execution Time:\" + time.strftime(\"%H:%M:%S\", time.gmtime(time.time() - start_time)))"
      ],
      "metadata": {
        "colab": {
          "base_uri": "https://localhost:8080/"
        },
        "id": "nLtqoS_aweKY",
        "outputId": "41a0b537-ecfb-4053-8ecf-ed653c581949"
      },
      "execution_count": 23,
      "outputs": [
        {
          "output_type": "stream",
          "name": "stdout",
          "text": [
            "Epoch 1/15\n",
            "1180/1180 [==============================] - 1757s 1s/step - loss: 1.4023 - accuracy: 0.4608 - val_loss: 1.1819 - val_accuracy: 0.5411\n",
            "Epoch 2/15\n",
            "1180/1180 [==============================] - 1668s 1s/step - loss: 1.0222 - accuracy: 0.6113 - val_loss: 1.0395 - val_accuracy: 0.6065\n",
            "Epoch 3/15\n",
            "1180/1180 [==============================] - 1733s 1s/step - loss: 0.7943 - accuracy: 0.7118 - val_loss: 0.9504 - val_accuracy: 0.6576\n",
            "Epoch 4/15\n",
            "1180/1180 [==============================] - 1757s 1s/step - loss: 0.5615 - accuracy: 0.8025 - val_loss: 0.8718 - val_accuracy: 0.7167\n",
            "Epoch 5/15\n",
            "1180/1180 [==============================] - 1738s 1s/step - loss: 0.3674 - accuracy: 0.8728 - val_loss: 0.8926 - val_accuracy: 0.7317\n",
            "Epoch 6/15\n",
            "1180/1180 [==============================] - 1749s 1s/step - loss: 0.2388 - accuracy: 0.9195 - val_loss: 1.0412 - val_accuracy: 0.7286\n",
            "Epoch 7/15\n",
            "1180/1180 [==============================] - 1782s 2s/step - loss: 0.1690 - accuracy: 0.9446 - val_loss: 1.0354 - val_accuracy: 0.7515\n",
            "Epoch 8/15\n",
            "1180/1180 [==============================] - 1737s 1s/step - loss: 0.1360 - accuracy: 0.9545 - val_loss: 1.1198 - val_accuracy: 0.7591\n",
            "Epoch 9/15\n",
            "1180/1180 [==============================] - 1765s 1s/step - loss: 0.1153 - accuracy: 0.9611 - val_loss: 1.2081 - val_accuracy: 0.7541\n",
            "Epoch 10/15\n",
            "1180/1180 [==============================] - 1761s 1s/step - loss: 0.1004 - accuracy: 0.9655 - val_loss: 1.2088 - val_accuracy: 0.7601\n",
            "Epoch 11/15\n",
            "1180/1180 [==============================] - 1768s 1s/step - loss: 0.0929 - accuracy: 0.9685 - val_loss: 1.3068 - val_accuracy: 0.7505\n",
            "Epoch 12/15\n",
            "1180/1180 [==============================] - 1816s 2s/step - loss: 0.0822 - accuracy: 0.9724 - val_loss: 1.2486 - val_accuracy: 0.7580\n",
            "Epoch 13/15\n",
            "1180/1180 [==============================] - 1711s 1s/step - loss: 0.0781 - accuracy: 0.9736 - val_loss: 1.3246 - val_accuracy: 0.7585\n",
            "Epoch 14/15\n",
            "1180/1180 [==============================] - 1700s 1s/step - loss: 0.0716 - accuracy: 0.9762 - val_loss: 1.3210 - val_accuracy: 0.7629\n",
            "Epoch 15/15\n",
            "1180/1180 [==============================] - 1740s 1s/step - loss: 0.0712 - accuracy: 0.9761 - val_loss: 1.3496 - val_accuracy: 0.7693\n",
            "Training Execution Time:07:17:23\n"
          ]
        }
      ]
    },
    {
      "cell_type": "code",
      "source": [
        "model_json = model.to_json()\n",
        "with open(\"VGG16_Classifier.json\", \"w\") as json_file:\n",
        "    json_file.write(model_json)\n",
        "model.save(\"VGG16_Classifier.h5\")\n",
        "print(\"Saved model to disk\")\n",
        "model.save_weights(\"VGG16.h5\")"
      ],
      "metadata": {
        "colab": {
          "base_uri": "https://localhost:8080/"
        },
        "id": "yWQdYrU8cNEi",
        "outputId": "1f795efc-ce94-4220-9218-ec271afda25a"
      },
      "execution_count": 27,
      "outputs": [
        {
          "output_type": "stream",
          "name": "stdout",
          "text": [
            "Saved model to disk\n"
          ]
        }
      ]
    },
    {
      "cell_type": "code",
      "execution_count": 25,
      "metadata": {
        "id": "UurhGK6Vy8dg",
        "colab": {
          "base_uri": "https://localhost:8080/"
        },
        "outputId": "c720ee42-c68e-4af2-aee3-667886ee4429"
      },
      "outputs": [
        {
          "output_type": "stream",
          "name": "stdout",
          "text": [
            "394/394 [==============================] - 294s 747ms/step - loss: 1.3765 - accuracy: 0.7641\n",
            "test_loss: 137.65\n",
            "test_accuracy: 76.41\n"
          ]
        }
      ],
      "source": [
        "loss, accuracy = model.evaluate(X_test,y_test)\n",
        "print('test_loss: %.2f' % (loss * 100.0))  \n",
        "print('test_accuracy: %.2f' % (accuracy * 100.0))"
      ]
    },
    {
      "cell_type": "code",
      "source": [
        "model_probs = model.predict(X_test,verbose=0)\n",
        "# predict crisp classes for test set\n",
        "model_classes = np.argmax(model_probs,axis=1)\n",
        "# reduce to 1d array\n",
        "model_probs = model_probs[:, 0]\n",
        "\n",
        "y_test_reduced = np.argmax(y_test,axis=1)\n",
        " \n",
        "# accuracy: (tp + tn) / (p + n)\n",
        "accuracy = accuracy_score(y_test_reduced, model_classes)*100\n",
        "# precision tp / (tp + fp)\n",
        "precision = precision_score(y_test_reduced, model_classes, average='weighted')*100\n",
        "# recall: tp / (tp + fn)\n",
        "recall = recall_score(y_test_reduced, model_classes, average='weighted')*100\n",
        "# f1: 2 tp / (2 tp + fp + fn)\n",
        "f1 = f1_score(y_test_reduced, model_classes, average='weighted')*100\n",
        "\n",
        "print('Accuracy: %.2f' % accuracy)\n",
        "print('F1 score: %.2f' % f1)\n",
        "print('Precision: %.2f' % precision)\n",
        "print('Recall: %.2f' % recall)"
      ],
      "metadata": {
        "colab": {
          "base_uri": "https://localhost:8080/"
        },
        "id": "KGAWiw_xvjl6",
        "outputId": "ff69c58b-7654-475b-b133-876d0b1cde4c"
      },
      "execution_count": 26,
      "outputs": [
        {
          "output_type": "stream",
          "name": "stdout",
          "text": [
            "Accuracy: 76.41\n",
            "F1 score: 76.43\n",
            "Precision: 76.71\n",
            "Recall: 76.41\n"
          ]
        }
      ]
    },
    {
      "cell_type": "code",
      "source": [
        "cf_matrix = confusion_matrix(y_test_reduced, model_classes)\n",
        "\n",
        "plt.figure(figsize = (10,8))\n",
        "sns.heatmap(cf_matrix, annot=True)\n",
        "plt.xlabel('Predicted_Label')\n",
        "plt.ylabel('True_Label')"
      ],
      "metadata": {
        "colab": {
          "base_uri": "https://localhost:8080/",
          "height": 516
        },
        "id": "NrjqK_Sm0pyY",
        "outputId": "d5fb5544-d584-4c67-9d0a-053e8ee35ca6"
      },
      "execution_count": 32,
      "outputs": [
        {
          "output_type": "execute_result",
          "data": {
            "text/plain": [
              "Text(69.0, 0.5, 'True_Label')"
            ]
          },
          "metadata": {},
          "execution_count": 32
        },
        {
          "output_type": "display_data",
          "data": {
            "text/plain": [
              "<Figure size 720x576 with 2 Axes>"
            ],
            "image/png": "[encoded data removed]"
          },
          "metadata": {
            "needs_background": "light"
          }
        }
      ]
    }
  ],
  "metadata": {
    "colab": {
      "name": "landeta_cnn_5.ipynb",
      "provenance": [],
      "collapsed_sections": []
    },
    "kernelspec": {
      "display_name": "Python 3",
      "name": "python3"
    },
    "language_info": {
      "name": "python"
    }
  },
  "nbformat": 4,
  "nbformat_minor": 0
}