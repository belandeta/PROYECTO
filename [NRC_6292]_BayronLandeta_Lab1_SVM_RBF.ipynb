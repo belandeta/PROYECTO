{
  "nbformat": 4,
  "nbformat_minor": 0,
  "metadata": {
    "colab": {
      "name": "SVM rbf landeta.ipynb",
      "provenance": [],
      "collapsed_sections": []
    },
    "kernelspec": {
      "name": "python3",
      "display_name": "Python 3"
    },
    "language_info": {
      "name": "python"
    }
  },
  "cells": [
    {
      "cell_type": "code",
      "source": [
        "from google.colab import drive\n",
        "drive.mount('/content/drive')"
      ],
      "metadata": {
        "colab": {
          "base_uri": "https://localhost:8080/"
        },
        "id": "FBvLMb_xPLrO",
        "outputId": "1ec691f4-4a83-476f-e5f8-f97f335219ad"
      },
      "execution_count": null,
      "outputs": [
        {
          "output_type": "stream",
          "name": "stdout",
          "text": [
            "Mounted at /content/drive\n"
          ]
        }
      ]
    },
    {
      "cell_type": "code",
      "source": [
        "import zipfile\n",
        "with zipfile.ZipFile('./drive/MyDrive/dataset2.zip', 'r') as zip_ref:\n",
        "    zip_ref.extractall('./')\n"
      ],
      "metadata": {
        "id": "KLXCjwnLycR-"
      },
      "execution_count": null,
      "outputs": []
    },
    {
      "cell_type": "code",
      "source": [
        "'''Cargar librerias'''\n",
        "import tensorflow as tf\n",
        "import matplotlib.pyplot as plt\n",
        "import numpy as np\n",
        "import os\n",
        "import tensorflow as tf\n",
        "from tensorflow import keras\n",
        "from keras import layers\n",
        "import matplotlib.image as img\n",
        "\n",
        "\n",
        "%matplotlib inline"
      ],
      "metadata": {
        "id": "HSI6t9paOrWB"
      },
      "execution_count": null,
      "outputs": []
    },
    {
      "cell_type": "code",
      "source": [
        "'''Instalar modulo'''\n",
        "!pip install split-folders\n",
        "import splitfolders\n",
        "'''Para asignar el entrenamiento, prueba y validacion'''\n",
        "splitfolders.ratio('./dataset', output=\"output\", seed=1337, ratio=(.6, 0.2,0.2))"
      ],
      "metadata": {
        "colab": {
          "base_uri": "https://localhost:8080/"
        },
        "id": "1tTxuhPf02WL",
        "outputId": "59d2f792-913a-4692-de30-6b7c038d04f9"
      },
      "execution_count": null,
      "outputs": [
        {
          "output_type": "stream",
          "name": "stdout",
          "text": [
            "Looking in indexes: https://pypi.org/simple, https://us-python.pkg.dev/colab-wheels/public/simple/\n",
            "Collecting split-folders\n",
            "  Downloading split_folders-0.5.1-py3-none-any.whl (8.4 kB)\n",
            "Installing collected packages: split-folders\n",
            "Successfully installed split-folders-0.5.1\n"
          ]
        },
        {
          "output_type": "stream",
          "name": "stderr",
          "text": [
            "Copying files: 3829 files [00:00, 8089.17 files/s]\n"
          ]
        }
      ]
    },
    {
      "cell_type": "code",
      "source": [
        "'''Para procesar los datos con keras'''\n",
        "train_ds = tf.keras.preprocessing.image_dataset_from_directory(\n",
        "\"./output/train\",\n",
        "seed=123,\n",
        "image_size=(48, 48),\n",
        "batch_size=64\n",
        ")\n",
        "\n",
        "test_ds = tf.keras.preprocessing.image_dataset_from_directory(\n",
        "\"./output/test\",\n",
        "seed=123,\n",
        "image_size=(48, 48),\n",
        "batch_size=64\n",
        ")\n",
        "\n",
        "val_ds = tf.keras.preprocessing.image_dataset_from_directory(\n",
        "\"./output/val\",\n",
        "seed=123,\n",
        "image_size=(48, 48),\n",
        "batch_size=64\n",
        ")"
      ],
      "metadata": {
        "colab": {
          "base_uri": "https://localhost:8080/"
        },
        "id": "Nypib5qq0371",
        "outputId": "844b1701-9f56-46d8-8636-2589988358b1"
      },
      "execution_count": null,
      "outputs": [
        {
          "output_type": "stream",
          "name": "stdout",
          "text": [
            "Found 2296 files belonging to 7 classes.\n",
            "Found 770 files belonging to 7 classes.\n",
            "Found 763 files belonging to 7 classes.\n"
          ]
        }
      ]
    },
    {
      "cell_type": "code",
      "source": [
        "class_names = train_ds.class_names\n",
        "print(class_names)"
      ],
      "metadata": {
        "colab": {
          "base_uri": "https://localhost:8080/"
        },
        "id": "HZJ3jHyX034P",
        "outputId": "1dd54c55-30e1-4ae5-d3ec-7d4c644423a2"
      },
      "execution_count": null,
      "outputs": [
        {
          "output_type": "stream",
          "name": "stdout",
          "text": [
            "['angry', 'disgust', 'fear', 'happy', 'neutral', 'sad', 'surprise']\n"
          ]
        }
      ]
    },
    {
      "cell_type": "code",
      "source": [
        "data='./dataset'\n",
        "import cv2\n",
        "for category in class_names:\n",
        "    path=os.path.join(data, category)\n",
        "    for img in os.listdir(path):\n",
        "        img_array=cv2.imread(os.path.join(path,img))\n",
        "        plt.imshow(img_array)\n",
        "        plt.show()\n",
        "        break\n",
        "    break"
      ],
      "metadata": {
        "colab": {
          "base_uri": "https://localhost:8080/",
          "height": 267
        },
        "id": "b3mGjoEw11Wr",
        "outputId": "f6991ca5-35c2-4405-98dd-74848c7a064c"
      },
      "execution_count": null,
      "outputs": [
        {
          "output_type": "display_data",
          "data": {
            "text/plain": [
              "<Figure size 432x288 with 1 Axes>"
            ],
            "image/png": "[encoded data removed]"
          },
          "metadata": {
            "needs_background": "light"
          }
        }
      ]
    },
    {
      "cell_type": "code",
      "source": [
        "training_data=[]\n",
        "IMG_SIZE=48\n",
        "def create_training_data():\n",
        "    for category in class_names:\n",
        "        path=os.path.join(data, category)\n",
        "        class_num=class_names.index(category)\n",
        "        for img in os.listdir(path):\n",
        "            try:\n",
        "                img_array=cv2.imread(os.path.join(path,img))\n",
        "                new_array=cv2.resize(img_array,(IMG_SIZE,IMG_SIZE))\n",
        "                training_data.append([new_array,class_num])\n",
        "            except Exception as e:\n",
        "                pass\n",
        "create_training_data() \n",
        "'''Ver la cantidad de datos'''\n",
        "print(len(training_data))"
      ],
      "metadata": {
        "colab": {
          "base_uri": "https://localhost:8080/"
        },
        "id": "mTFIBin5031n",
        "outputId": "78fb3ee2-eca8-479c-f24f-3e5c2e2c35ea"
      },
      "execution_count": null,
      "outputs": [
        {
          "output_type": "stream",
          "name": "stdout",
          "text": [
            "3829\n"
          ]
        }
      ]
    },
    {
      "cell_type": "code",
      "source": [
        "lenofimage = len(training_data)\n",
        "'''Creacion de la variable x and y'''\n",
        "X=[]\n",
        "y=[]\n",
        "\n",
        "'''Mostrar las categorias'''\n",
        "for categories, label in training_data:\n",
        "    X.append(categories)\n",
        "    y.append(label)\n",
        "X= np.array(X).reshape(lenofimage,-1)\n",
        "'''Cantidad de datos'''\n",
        "X.shape\n",
        "'''Dividir x en numero maximo de pixel'''\n",
        "X = X/255.0\n",
        "'''La variable x en position 1'''\n",
        "X[1]"
      ],
      "metadata": {
        "colab": {
          "base_uri": "https://localhost:8080/"
        },
        "id": "cKq1lVnM03zA",
        "outputId": "c3d01aa1-cf2a-4901-8a1e-377eda466726"
      },
      "execution_count": null,
      "outputs": [
        {
          "output_type": "execute_result",
          "data": {
            "text/plain": [
              "array([0.16470588, 0.16470588, 0.16470588, ..., 0.19215686, 0.19215686,\n",
              "       0.19215686])"
            ]
          },
          "metadata": {},
          "execution_count": 9
        }
      ]
    },
    {
      "cell_type": "code",
      "source": [
        "y=np.array(y)\n",
        "y.shape"
      ],
      "metadata": {
        "colab": {
          "base_uri": "https://localhost:8080/"
        },
        "id": "gryTtr_o03wV",
        "outputId": "e403cca7-5b16-4e91-8189-bade2bbd0521"
      },
      "execution_count": null,
      "outputs": [
        {
          "output_type": "execute_result",
          "data": {
            "text/plain": [
              "(3829,)"
            ]
          },
          "metadata": {},
          "execution_count": 10
        }
      ]
    },
    {
      "cell_type": "code",
      "source": [
        "from sklearn.model_selection import train_test_split\n",
        "X_train, X_test, y_train, y_test = train_test_split(X,y)\n",
        "from sklearn.svm import SVC"
      ],
      "metadata": {
        "id": "YB55BGfO1QaX"
      },
      "execution_count": null,
      "outputs": []
    },
    {
      "cell_type": "code",
      "source": [
        "'''Creacion kernel rbf'''\n",
        "linear_param_grid = {\n",
        "    \n",
        "        \"kernel\": [\"rbf\"],\n",
        "        \"C\": [0.0001, 0.001, 0.1, 1, 10, 100, 1000],\n",
        "        \"decision_function_shape\": ['ovo', 'ovr']\n",
        "}\n",
        "'''Librerias para usar SVM en el modelo'''\n",
        "from sklearn import svm\n",
        "from sklearn.model_selection import GridSearchCV\n",
        "linear_grid = GridSearchCV(svm.SVC(), linear_param_grid)\n",
        "linear_grid.fit(X_train,y_train)\n",
        "print(linear_grid.best_estimator_)\n",
        "\n",
        "'''Libreria para las metricas'''\n",
        "from sklearn.metrics import accuracy_score, precision_score, recall_score, f1_score, make_scorer\n",
        "from sklearn.metrics import confusion_matrix\n",
        "linear_pred = linear_grid.predict(X_test)\n",
        "'''Creacion de metricas'''\n",
        "linear_accuracy = accuracy_score(y_test, linear_pred)\n",
        "linear_precision = precision_score(y_test, linear_pred, average='weighted')\n",
        "linear_recall = recall_score(y_test, linear_pred, average='weighted')\n",
        "linear_f1 = f1_score(y_test, linear_pred, average='weighted')\n",
        "print('Accuracy (Linear Kernel): ', \"%.2f\" % (linear_accuracy*100))\n",
        "print('F1 (Linear Kernel): ', \"%.2f\" % (linear_f1*100))\n",
        "print('Precision (Linear Kernel): ', \"%.2f\" % (linear_precision*100))\n",
        "print('Recall (Linear Kernel): ', \"%.2f\" % (linear_recall*100))"
      ],
      "metadata": {
        "id": "L6OEt92u1QRk",
        "colab": {
          "base_uri": "https://localhost:8080/"
        },
        "outputId": "9bbe43a3-99bd-41dc-97b1-80d01464ddc9"
      },
      "execution_count": null,
      "outputs": [
        {
          "output_type": "stream",
          "name": "stdout",
          "text": [
            "SVC(C=100, decision_function_shape='ovo')\n",
            "Accuracy (Linear Kernel):  36.01\n",
            "F1 (Linear Kernel):  35.57\n",
            "Precision (Linear Kernel):  35.55\n",
            "Recall (Linear Kernel):  36.01\n"
          ]
        }
      ]
    },
    {
      "cell_type": "code",
      "source": [
        "import seaborn as sns\n",
        "from sklearn.metrics import confusion_matrix\n",
        "cm = confusion_matrix(y_test, linear_pred)\n",
        "\n",
        "plt.figure(figsize=(10,8))\n",
        "\n",
        "ax = sns.heatmap(cm/np.sum(cm),fmt='.2%', annot=True, cmap='vlag')\n",
        "\n",
        "ax.set_title('Confusion Matrix with labels\\n');\n",
        "ax.set_xlabel('\\nPredicted Values')\n",
        "ax.set_ylabel('Actual Values ');\n",
        "\n",
        "ax.xaxis.set_ticklabels(class_names)\n",
        "ax.yaxis.set_ticklabels(class_names)\n",
        "'''Graficar la matriz'''\n",
        "plt.show()"
      ],
      "metadata": {
        "id": "uT6Z2bftEFgM",
        "colab": {
          "base_uri": "https://localhost:8080/"
        },
        "outputId": "89b35016-4621-427b-a12c-ceb2577a4838"
      },
      "execution_count": null,
      "outputs": [
        {
          "output_type": "display_data",
          "data": {
            "text/plain": [
              "<Figure size 720x576 with 2 Axes>"
            ],
            "image/png": "[encoded data removed]"
          },
          "metadata": {
            "needs_background": "light"
          }
        }
      ]
    },
    {
      "cell_type": "code",
      "source": [
        ""
      ],
      "metadata": {
        "id": "RiP35sTYSLEO"
      },
      "execution_count": null,
      "outputs": []
    }
  ]
}