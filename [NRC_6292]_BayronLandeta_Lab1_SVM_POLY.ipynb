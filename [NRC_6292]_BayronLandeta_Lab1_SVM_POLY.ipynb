{
  "cells": [
    {
      "cell_type": "code",
      "execution_count": null,
      "metadata": {
        "colab": {
          "base_uri": "https://localhost:8080/"
        },
        "id": "FBvLMb_xPLrO",
        "outputId": "d7bbe526-631e-4e54-9796-effb929092e6"
      },
      "outputs": [
        {
          "name": "stdout",
          "output_type": "stream",
          "text": [
            "Mounted at /content/drive\n"
          ]
        }
      ],
      "source": [
        "from google.colab import drive\n",
        "drive.mount('/content/drive')"
      ]
    },
    {
      "cell_type": "code",
      "execution_count": null,
      "metadata": {
        "id": "KLXCjwnLycR-"
      },
      "outputs": [],
      "source": [
        "import zipfile\n",
        "with zipfile.ZipFile('./drive/MyDrive/dataset2.zip', 'r') as zip_ref:\n",
        "    zip_ref.extractall('./')\n"
      ]
    },
    {
      "cell_type": "code",
      "execution_count": null,
      "metadata": {
        "id": "HSI6t9paOrWB"
      },
      "outputs": [],
      "source": [
        "'''Cargar librerias'''\n",
        "import tensorflow as tf\n",
        "import matplotlib.pyplot as plt\n",
        "import numpy as np\n",
        "import os\n",
        "import tensorflow as tf\n",
        "from tensorflow import keras\n",
        "from keras import layers\n",
        "import matplotlib.image as img\n",
        "\n",
        "\n",
        "%matplotlib inline"
      ]
    },
    {
      "cell_type": "code",
      "execution_count": null,
      "metadata": {
        "colab": {
          "base_uri": "https://localhost:8080/"
        },
        "id": "1tTxuhPf02WL",
        "outputId": "21e5a8d0-c110-4033-a470-23e09092cc20"
      },
      "outputs": [
        {
          "name": "stdout",
          "output_type": "stream",
          "text": [
            "Looking in indexes: https://pypi.org/simple, https://us-python.pkg.dev/colab-wheels/public/simple/\n",
            "Collecting split-folders\n",
            "  Downloading split_folders-0.5.1-py3-none-any.whl (8.4 kB)\n",
            "Installing collected packages: split-folders\n",
            "Successfully installed split-folders-0.5.1\n"
          ]
        },
        {
          "name": "stderr",
          "output_type": "stream",
          "text": [
            "Copying files: 3829 files [00:00, 5685.56 files/s]\n"
          ]
        }
      ],
      "source": [
        "'''Instalar modulo'''\n",
        "!pip install split-folders\n",
        "import splitfolders\n",
        "'''Para asignar el entrenamiento, prueba y validacion'''\n",
        "splitfolders.ratio('./dataset', output=\"output\", seed=1337, ratio=(.6, 0.2,0.2))"
      ]
    },
    {
      "cell_type": "code",
      "execution_count": null,
      "metadata": {
        "colab": {
          "base_uri": "https://localhost:8080/"
        },
        "id": "Nypib5qq0371",
        "outputId": "6ab865a0-20e0-418a-efcf-98e6fd6f8e69"
      },
      "outputs": [
        {
          "name": "stdout",
          "output_type": "stream",
          "text": [
            "Found 2296 files belonging to 7 classes.\n",
            "Found 770 files belonging to 7 classes.\n",
            "Found 763 files belonging to 7 classes.\n"
          ]
        }
      ],
      "source": [
        "'''Para procesar los datos con keras'''\n",
        "train_ds = tf.keras.preprocessing.image_dataset_from_directory(\n",
        "\"./output/train\",\n",
        "seed=123,\n",
        "image_size=(48, 48),\n",
        "batch_size=64\n",
        ")\n",
        "\n",
        "test_ds = tf.keras.preprocessing.image_dataset_from_directory(\n",
        "\"./output/test\",\n",
        "seed=123,\n",
        "image_size=(48, 48),\n",
        "batch_size=64\n",
        ")\n",
        "\n",
        "val_ds = tf.keras.preprocessing.image_dataset_from_directory(\n",
        "\"./output/val\",\n",
        "seed=123,\n",
        "image_size=(48, 48),\n",
        "batch_size=64\n",
        ")"
      ]
    },
    {
      "cell_type": "code",
      "execution_count": null,
      "metadata": {
        "colab": {
          "base_uri": "https://localhost:8080/"
        },
        "id": "HZJ3jHyX034P",
        "outputId": "5e153169-a334-4f85-9bd4-baa862fc3815"
      },
      "outputs": [
        {
          "name": "stdout",
          "output_type": "stream",
          "text": [
            "['angry', 'disgust', 'fear', 'happy', 'neutral', 'sad', 'surprise']\n"
          ]
        }
      ],
      "source": [
        "class_names = train_ds.class_names\n",
        "print(class_names)"
      ]
    },
    {
      "cell_type": "code",
      "execution_count": null,
      "metadata": {
        "colab": {
          "base_uri": "https://localhost:8080/",
          "height": 267
        },
        "id": "b3mGjoEw11Wr",
        "outputId": "c9581f6c-1751-4eab-bf02-a6bac71a7e23"
      },
      "outputs": [
        {
          "data": {
            "image/png": "[encoded data removed]",
            "text/plain": [
              "<Figure size 432x288 with 1 Axes>"
            ]
          },
          "metadata": {},
          "output_type": "display_data"
        }
      ],
      "source": [
        "data='./dataset'\n",
        "import cv2\n",
        "for category in class_names:\n",
        "    path=os.path.join(data, category)\n",
        "    for img in os.listdir(path):\n",
        "        img_array=cv2.imread(os.path.join(path,img))\n",
        "        plt.imshow(img_array)\n",
        "        plt.show()\n",
        "        break\n",
        "    break"
      ]
    },
    {
      "cell_type": "code",
      "execution_count": null,
      "metadata": {
        "colab": {
          "base_uri": "https://localhost:8080/"
        },
        "id": "mTFIBin5031n",
        "outputId": "61ae3fe3-abf7-4cb1-ea1f-458d8d0c5428"
      },
      "outputs": [
        {
          "name": "stdout",
          "output_type": "stream",
          "text": [
            "3829\n"
          ]
        }
      ],
      "source": [
        "training_data=[]\n",
        "IMG_SIZE=48\n",
        "def create_training_data():\n",
        "    for category in class_names:\n",
        "        path=os.path.join(data, category)\n",
        "        class_num=class_names.index(category)\n",
        "        for img in os.listdir(path):\n",
        "            try:\n",
        "                img_array=cv2.imread(os.path.join(path,img))\n",
        "                new_array=cv2.resize(img_array,(IMG_SIZE,IMG_SIZE))\n",
        "                training_data.append([new_array,class_num])\n",
        "            except Exception as e:\n",
        "                pass\n",
        "create_training_data() \n",
        "'''Ver la cantidad de datos'''\n",
        "print(len(training_data))"
      ]
    },
    {
      "cell_type": "code",
      "execution_count": null,
      "metadata": {
        "colab": {
          "base_uri": "https://localhost:8080/"
        },
        "id": "cKq1lVnM03zA",
        "outputId": "87ac6223-4227-4b89-b425-e58ff4d169e8"
      },
      "outputs": [
        {
          "data": {
            "text/plain": [
              "array([0.16470588, 0.16470588, 0.16470588, ..., 0.19215686, 0.19215686,\n",
              "       0.19215686])"
            ]
          },
          "execution_count": 10,
          "metadata": {},
          "output_type": "execute_result"
        }
      ],
      "source": [
        "lenofimage = len(training_data)\n",
        "'''Creacion de la variable x and y'''\n",
        "X=[]\n",
        "y=[]\n",
        "\n",
        "'''Mostrar las categorias'''\n",
        "for categories, label in training_data:\n",
        "    X.append(categories)\n",
        "    y.append(label)\n",
        "X= np.array(X).reshape(lenofimage,-1)\n",
        "'''Cantidad de datos'''\n",
        "X.shape\n",
        "'''Dividir x en numero maximo de pixel'''\n",
        "X = X/255.0\n",
        "'''La variable x en position 1'''\n",
        "X[1]"
      ]
    },
    {
      "cell_type": "code",
      "execution_count": null,
      "metadata": {
        "colab": {
          "base_uri": "https://localhost:8080/"
        },
        "id": "gryTtr_o03wV",
        "outputId": "5150aaa6-8663-4544-9f08-af6e665099b0"
      },
      "outputs": [
        {
          "data": {
            "text/plain": [
              "(3829,)"
            ]
          },
          "execution_count": 11,
          "metadata": {},
          "output_type": "execute_result"
        }
      ],
      "source": [
        "y=np.array(y)\n",
        "y.shape"
      ]
    },
    {
      "cell_type": "code",
      "execution_count": null,
      "metadata": {
        "id": "YB55BGfO1QaX"
      },
      "outputs": [],
      "source": [
        "from sklearn.model_selection import train_test_split\n",
        "X_train, X_test, y_train, y_test = train_test_split(X,y)\n",
        "from sklearn.svm import SVC"
      ]
    },
    {
      "cell_type": "code",
      "execution_count": null,
      "metadata": {
        "colab": {
          "background_save": true
        },
        "id": "L6OEt92u1QRk",
        "outputId": "d173e043-68fa-4ba0-cbc3-cb8963e081de"
      },
      "outputs": [
        {
          "name": "stdout",
          "output_type": "stream",
          "text": [
            "SVC(C=1, decision_function_shape='ovo', kernel='poly')\n",
            "Accuracy (poly Kernel):  31.52\n",
            "F1 (poly Kernel):  31.00\n",
            "Precision (poly Kernel):  30.92\n",
            "Recall (poly Kernel):  31.52\n"
          ]
        }
      ],
      "source": [
        "\n",
        "poly_param_grid = {\n",
        "    \n",
        "        \"kernel\": [\"poly\"],\n",
        "        \"C\": [0.0001, 0.001, 0.1, 1, 10, 100, 1000],\n",
        "        \"decision_function_shape\": ['ovo', 'ovr']\n",
        "}\n",
        "'''Librerias para usar SVM en el modelo'''\n",
        "from sklearn import svm\n",
        "from sklearn.model_selection import GridSearchCV\n",
        "poly_grid = GridSearchCV(svm.SVC(), poly_param_grid)\n",
        "poly_grid.fit(X_train,y_train)\n",
        "print(poly_grid.best_estimator_)\n",
        "\n",
        "'''Libreria para las metricas'''\n",
        "from sklearn.metrics import accuracy_score, precision_score, recall_score, f1_score, make_scorer\n",
        "from sklearn.metrics import confusion_matrix\n",
        "poly_pred = poly_grid.predict(X_test)\n",
        "'''Creacion de metricas'''\n",
        "poly_accuracy = accuracy_score(y_test, poly_pred)\n",
        "poly_precision = precision_score(y_test, poly_pred, average='weighted')\n",
        "poly_recall = recall_score(y_test, poly_pred, average='weighted')\n",
        "poly_f1 = f1_score(y_test, poly_pred, average='weighted')\n",
        "print('Accuracy (poly Kernel): ', \"%.2f\" % (poly_accuracy*100))\n",
        "print('F1 (poly Kernel): ', \"%.2f\" % (poly_f1*100))\n",
        "print('Precision (poly Kernel): ', \"%.2f\" % (poly_precision*100))\n",
        "print('Recall (poly Kernel): ', \"%.2f\" % (poly_recall*100))"
      ]
    },
    {
      "cell_type": "code",
      "execution_count": null,
      "metadata": {
        "colab": {
          "background_save": true
        },
        "id": "uT6Z2bftEFgM",
        "outputId": "e1ad0f35-7c5a-4cb7-e6d2-e072ac890e46"
      },
      "outputs": [
        {
          "data": {
            "image/png": "[encoded data removed]",
            "text/plain": [
              "<Figure size 720x576 with 2 Axes>"
            ]
          },
          "metadata": {},
          "output_type": "display_data"
        }
      ],
      "source": [
        "import seaborn as sns\n",
        "from sklearn.metrics import confusion_matrix\n",
        "cm = confusion_matrix(y_test, poly_pred)\n",
        "\n",
        "plt.figure(figsize=(10,8))\n",
        "\n",
        "ax = sns.heatmap(cm/np.sum(cm),fmt='.2%', annot=True, cmap='vlag')\n",
        "\n",
        "ax.set_title('Confusion Matrix with labels\\n');\n",
        "ax.set_xlabel('\\nPredicted Values')\n",
        "ax.set_ylabel('Actual Values ');\n",
        "\n",
        "ax.xaxis.set_ticklabels(class_names)\n",
        "ax.yaxis.set_ticklabels(class_names)\n",
        "'''Graficar la matriz'''\n",
        "plt.show()"
      ]
    },
    {
      "cell_type": "code",
      "execution_count": null,
      "metadata": {
        "id": "xcSJB_cJWISV"
      },
      "outputs": [],
      "source": [
        ""
      ]
    }
  ],
  "metadata": {
    "colab": {
      "collapsed_sections": [],
      "name": "SVM poly landeta.ipynb",
      "provenance": []
    },
    "kernelspec": {
      "display_name": "Python 3",
      "name": "python3"
    },
    "language_info": {
      "name": "python"
    }
  },
  "nbformat": 4,
  "nbformat_minor": 0
}
