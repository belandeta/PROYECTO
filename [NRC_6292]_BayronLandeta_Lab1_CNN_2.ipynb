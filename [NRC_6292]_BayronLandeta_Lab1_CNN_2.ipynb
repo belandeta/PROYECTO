{
  "nbformat": 4,
  "nbformat_minor": 0,
  "metadata": {
    "colab": {
      "name": "SVM lineal landeta.ipynb",
      "provenance": [],
      "collapsed_sections": []
    },
    "kernelspec": {
      "name": "python3",
      "display_name": "Python 3"
    },
    "language_info": {
      "name": "python"
    }
  },
  "cells": [
    {
      "cell_type": "code",
      "source": [
        "from google.colab import drive\n",
        "drive.mount('/content/drive')"
      ],
      "metadata": {
        "colab": {
          "base_uri": "https://localhost:8080/"
        },
        "id": "FBvLMb_xPLrO",
        "outputId": "6c2c4748-7a07-4d29-f78b-b853d74b602c"
      },
      "execution_count": null,
      "outputs": [
        {
          "output_type": "stream",
          "name": "stdout",
          "text": [
            "Drive already mounted at /content/drive; to attempt to forcibly remount, call drive.mount(\"/content/drive\", force_remount=True).\n"
          ]
        }
      ]
    },
    {
      "cell_type": "code",
      "source": [
        "import zipfile\n",
        "with zipfile.ZipFile('./drive/MyDrive/dataset.zip', 'r') as zip_ref:\n",
        "    zip_ref.extractall('./dataset')\n"
      ],
      "metadata": {
        "id": "KLXCjwnLycR-"
      },
      "execution_count": null,
      "outputs": []
    },
    {
      "cell_type": "code",
      "source": [
        "'''Cargar librerias'''\n",
        "import tensorflow as tf\n",
        "import matplotlib.pyplot as plt\n",
        "import numpy as np\n",
        "import os\n",
        "import tensorflow as tf\n",
        "from tensorflow import keras\n",
        "from keras import layers\n",
        "import matplotlib.image as img\n",
        "\n",
        "\n",
        "%matplotlib inline"
      ],
      "metadata": {
        "id": "HSI6t9paOrWB"
      },
      "execution_count": null,
      "outputs": []
    },
    {
      "cell_type": "code",
      "source": [
        "'''Instalar modulo'''\n",
        "!pip install split-folders\n",
        "import splitfolders\n",
        "'''Para asignar el entrenamiento, prueba y validacion'''\n",
        "splitfolders.ratio('./dataset', output=\"output\", seed=1337, ratio=(.6, 0.2,0.2))"
      ],
      "metadata": {
        "colab": {
          "base_uri": "https://localhost:8080/"
        },
        "id": "1tTxuhPf02WL",
        "outputId": "2a86bd83-859e-4211-d926-5a66420cb381"
      },
      "execution_count": null,
      "outputs": [
        {
          "output_type": "stream",
          "name": "stdout",
          "text": [
            "Looking in indexes: https://pypi.org/simple, https://us-python.pkg.dev/colab-wheels/public/simple/\n",
            "Requirement already satisfied: split-folders in /usr/local/lib/python3.7/dist-packages (0.5.1)\n"
          ]
        },
        {
          "output_type": "stream",
          "name": "stderr",
          "text": [
            "Copying files: 7014 files [00:02, 2552.64 files/s]\n"
          ]
        }
      ]
    },
    {
      "cell_type": "code",
      "source": [
        "'''Para procesar los datos con keras'''\n",
        "train_ds = tf.keras.preprocessing.image_dataset_from_directory(\n",
        "\"./output/train\",\n",
        "seed=123,\n",
        "image_size=(48, 48),\n",
        "batch_size=64\n",
        ")\n",
        "\n",
        "test_ds = tf.keras.preprocessing.image_dataset_from_directory(\n",
        "\"./output/test\",\n",
        "seed=123,\n",
        "image_size=(48, 48),\n",
        "batch_size=64\n",
        ")\n",
        "\n",
        "val_ds = tf.keras.preprocessing.image_dataset_from_directory(\n",
        "\"./output/val\",\n",
        "seed=123,\n",
        "image_size=(48, 48),\n",
        "batch_size=64\n",
        ")"
      ],
      "metadata": {
        "colab": {
          "base_uri": "https://localhost:8080/"
        },
        "id": "Nypib5qq0371",
        "outputId": "354e270e-3336-4c02-8c62-0b825b87e376"
      },
      "execution_count": null,
      "outputs": [
        {
          "output_type": "stream",
          "name": "stdout",
          "text": [
            "Found 4207 files belonging to 7 classes.\n",
            "Found 1407 files belonging to 7 classes.\n",
            "Found 1400 files belonging to 7 classes.\n"
          ]
        }
      ]
    },
    {
      "cell_type": "code",
      "source": [
        "class_names = train_ds.class_names\n",
        "print(class_names)"
      ],
      "metadata": {
        "colab": {
          "base_uri": "https://localhost:8080/"
        },
        "id": "HZJ3jHyX034P",
        "outputId": "3204a6f1-9a6c-48db-e50f-c1b8a4a1dd19"
      },
      "execution_count": null,
      "outputs": [
        {
          "output_type": "stream",
          "name": "stdout",
          "text": [
            "['angry', 'disgust', 'fear', 'happy', 'neutral', 'sad', 'surprise']\n"
          ]
        }
      ]
    },
    {
      "cell_type": "code",
      "source": [
        "data='./dataset'\n",
        "import cv2\n",
        "for category in class_names:\n",
        "    path=os.path.join(data, category)\n",
        "    for img in os.listdir(path):\n",
        "        img_array=cv2.imread(os.path.join(path,img))\n",
        "        plt.imshow(img_array)\n",
        "        plt.show()\n",
        "        break\n",
        "    break"
      ],
      "metadata": {
        "colab": {
          "base_uri": "https://localhost:8080/",
          "height": 267
        },
        "id": "b3mGjoEw11Wr",
        "outputId": "5a50a141-6444-4254-af06-998cb7c6a294"
      },
      "execution_count": null,
      "outputs": [
        {
          "output_type": "display_data",
          "data": {
            "text/plain": [
              "<Figure size 432x288 with 1 Axes>"
            ],
            "image/png": "[encoded data removed]"
          },
          "metadata": {
            "needs_background": "light"
          }
        }
      ]
    },
    {
      "cell_type": "code",
      "source": [
        "training_data=[]\n",
        "IMG_SIZE=48\n",
        "def create_training_data():\n",
        "    for category in class_names:\n",
        "        path=os.path.join(data, category)\n",
        "        class_num=class_names.index(category)\n",
        "        for img in os.listdir(path):\n",
        "            try:\n",
        "                img_array=cv2.imread(os.path.join(path,img))\n",
        "                new_array=cv2.resize(img_array,(IMG_SIZE,IMG_SIZE))\n",
        "                training_data.append([new_array,class_num])\n",
        "            except Exception as e:\n",
        "                pass\n",
        "create_training_data() \n",
        "'''Ver la cantidad de datos'''\n",
        "print(len(training_data))"
      ],
      "metadata": {
        "colab": {
          "base_uri": "https://localhost:8080/"
        },
        "id": "mTFIBin5031n",
        "outputId": "80a9a3ec-c72f-4b8b-9049-80c13f055a3d"
      },
      "execution_count": null,
      "outputs": [
        {
          "output_type": "stream",
          "name": "stdout",
          "text": [
            "7014\n"
          ]
        }
      ]
    },
    {
      "cell_type": "code",
      "source": [
        "lenofimage = len(training_data)\n",
        "'''Creacion de la variable x and y'''\n",
        "X=[]\n",
        "y=[]\n",
        "\n",
        "'''Mostrar las categorias'''\n",
        "for categories, label in training_data:\n",
        "    X.append(categories)\n",
        "    y.append(label)\n",
        "X= np.array(X).reshape(lenofimage,-1)\n",
        "'''Cantidad de datos'''\n",
        "X.shape\n",
        "'''Dividir x en numero maximo de pixel'''\n",
        "X = X/255.0\n",
        "'''La variable x en position 1'''\n",
        "X[1]"
      ],
      "metadata": {
        "colab": {
          "base_uri": "https://localhost:8080/"
        },
        "id": "cKq1lVnM03zA",
        "outputId": "b95663fd-6470-480b-8da2-35b6a76ae18e"
      },
      "execution_count": null,
      "outputs": [
        {
          "output_type": "execute_result",
          "data": {
            "text/plain": [
              "array([0.24705882, 0.36862745, 0.61568627, ..., 0.40392157, 0.58823529,\n",
              "       0.67058824])"
            ]
          },
          "metadata": {},
          "execution_count": 9
        }
      ]
    },
    {
      "cell_type": "code",
      "source": [
        "y=np.array(y)\n",
        "y.shape"
      ],
      "metadata": {
        "colab": {
          "base_uri": "https://localhost:8080/"
        },
        "id": "gryTtr_o03wV",
        "outputId": "11e0601f-737a-4b9c-d0b2-28e544731864"
      },
      "execution_count": null,
      "outputs": [
        {
          "output_type": "execute_result",
          "data": {
            "text/plain": [
              "(7014,)"
            ]
          },
          "metadata": {},
          "execution_count": 10
        }
      ]
    },
    {
      "cell_type": "code",
      "source": [
        "from sklearn.model_selection import train_test_split\n",
        "X_train, X_test, y_train, y_test = train_test_split(X,y)\n",
        "from sklearn.svm import SVC\n",
        "'''Asignacion del kernel'''\n",
        "#svc = SVC(kernel='linear',gamma='auto')\n",
        "#svc.fit(X_train, y_train)"
      ],
      "metadata": {
        "colab": {
          "base_uri": "https://localhost:8080/",
          "height": 36
        },
        "id": "YB55BGfO1QaX",
        "outputId": "98770050-c2a9-4eae-a515-137023fd98f7"
      },
      "execution_count": null,
      "outputs": [
        {
          "output_type": "execute_result",
          "data": {
            "text/plain": [
              "'Asignacion del kernel'"
            ],
            "application/vnd.google.colaboratory.intrinsic+json": {
              "type": "string"
            }
          },
          "metadata": {},
          "execution_count": 12
        }
      ]
    },
    {
      "cell_type": "code",
      "source": [
        "'''Creacion kernel Lineal'''\n",
        "linear_param_grid = {\n",
        "    \n",
        "        \"kernel\": [\"linear\"],\n",
        "        \"C\": [0.0001, 0.001, 0.1, 1, 10, 100, 1000],\n",
        "        \"decision_function_shape\": ['ovo', 'ovr']\n",
        "}\n",
        "'''Librerias para usar SVM en el modelo'''\n",
        "from sklearn import svm\n",
        "from sklearn.model_selection import GridSearchCV\n",
        "linear_grid = GridSearchCV(svm.SVC(), linear_param_grid)\n",
        "linear_grid.fit(X_train,y_train)\n",
        "print(linear_grid.best_estimator_)\n",
        "\n",
        "'''Libreria para las metricas'''\n",
        "from sklearn.metrics import accuracy_score, precision_score, recall_score, f1_score, make_scorer\n",
        "from sklearn.metrics import confusion_matrix\n",
        "linear_pred = linear_grid.predict(X_test)\n",
        "'''Creacion de metricas'''\n",
        "linear_accuracy = accuracy_score(y_test, linear_pred)\n",
        "linear_precision = precision_score(y_test, linear_pred, average='weighted')\n",
        "linear_recall = recall_score(y_test, linear_pred, average='weighted')\n",
        "linear_f1 = f1_score(y_test, linear_pred, average='weighted')\n",
        "print('Accuracy (Linear Kernel): ', \"%.2f\" % (linear_accuracy*100))\n",
        "print('F1 (Linear Kernel): ', \"%.2f\" % (linear_f1*100))\n",
        "print('Precision (Linear Kernel): ', \"%.2f\" % (linear_precision*100))\n",
        "print('Recall (Linear Kernel): ', \"%.2f\" % (linear_recall*100))"
      ],
      "metadata": {
        "id": "L6OEt92u1QRk",
        "colab": {
          "base_uri": "https://localhost:8080/"
        },
        "outputId": "9ce38366-1f61-4dc2-b871-0dd2c903c4c9"
      },
      "execution_count": null,
      "outputs": [
        {
          "output_type": "stream",
          "name": "stdout",
          "text": [
            "SVC(C=0.001, decision_function_shape='ovo', kernel='linear')\n",
            "Accuracy (Linear Kernel):  22.92\n",
            "F1 (Linear Kernel):  22.80\n",
            "Precision (Linear Kernel):  23.53\n",
            "Recall (Linear Kernel):  22.92\n"
          ]
        }
      ]
    },
    {
      "cell_type": "code",
      "source": [
        "'''Creacion de las imagenes'''\n",
        "import seaborn as sns\n",
        "from sklearn.metrics import confusion_matrix\n",
        "cm = confusion_matrix(y_test, linear_pred)\n",
        "\n",
        "plt.figure(figsize=(10,8))\n",
        "\n",
        "ax = sns.heatmap(cm/np.sum(cm),fmt='.2%', annot=True, cmap='vlag')\n",
        "\n",
        "ax.set_title('Confusion Matrix with labels\\n');\n",
        "ax.set_xlabel('\\nPredicted Values')\n",
        "ax.set_ylabel('Actual Values ');\n",
        "\n",
        "ax.xaxis.set_ticklabels(class_names)\n",
        "ax.yaxis.set_ticklabels(class_names)\n",
        "'''Graficar la matriz'''\n",
        "plt.show()"
      ],
      "metadata": {
        "id": "uT6Z2bftEFgM",
        "colab": {
          "base_uri": "https://localhost:8080/",
          "height": 539
        },
        "outputId": "8b04b400-4695-4e21-f291-01a611fa77a4"
      },
      "execution_count": null,
      "outputs": [
        {
          "output_type": "display_data",
          "data": {
            "text/plain": [
              "<Figure size 720x576 with 2 Axes>"
            ],
            "image/png": "[encoded data removed]"
          },
          "metadata": {
            "needs_background": "light"
          }
        }
      ]
    },
    {
      "cell_type": "code",
      "source": [
        ""
      ],
      "metadata": {
        "id": "SAwBcDIXNOGz"
      },
      "execution_count": null,
      "outputs": []
    }
  ]
}