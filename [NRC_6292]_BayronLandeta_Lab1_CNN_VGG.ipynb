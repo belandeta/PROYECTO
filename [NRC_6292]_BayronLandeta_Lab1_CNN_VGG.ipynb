{
 "cells": [
  {
   "cell_type": "code",
   "execution_count": null,
   "metadata": {
    "colab": {
     "base_uri": "https://localhost:8080/"
    },
    "id": "l-zJ87frTUEU",
    "outputId": "08a13ada-9aa9-4316-aad2-a5f60daee555"
   },
   "outputs": [
    {
     "name": "stdout",
     "output_type": "stream",
     "text": [
      "Drive already mounted at /content/drive; to attempt to forcibly remount, call drive.mount(\"/content/drive\", force_remount=True).\n"
     ]
    }
   ],
   "source": [
    "# Utilizamos el Drive en Colab para subir los datos a utilizar\n",
    "# Se eliminan despues de cierto tiempo al subir directamente\n",
    "from google.colab import drive\n",
    "drive.mount('/content/drive')"
   ]
  },
  {
   "cell_type": "code",
   "execution_count": null,
   "metadata": {
    "id": "Qk1g8nrYYNJX"
   },
   "outputs": [],
   "source": [
    "# Librerías\n",
    "import sys\n",
    "import os\n",
    "import  tensorflow as tf\n",
    "# Para presocesar las imágenes_\n",
    "from tensorflow.keras.preprocessing.image import ImageDataGenerator\n",
    "# Importamos optimizadores\n",
    "from tensorflow.python.keras import optimizers\n",
    "# Librería para hacer redes neuronales scuenciales (capas en orden)\n",
    "from tensorflow.python.keras.models import Sequential\n",
    "# \n",
    "from tensorflow.python.keras.layers import Dropout, Flatten, Dense, Activation\n",
    "# Capas de convoluciones y Maxpooling\n",
    "from tensorflow.python.keras.layers import  Convolution2D, MaxPooling2D\n",
    "# Limpiar\n",
    "from tensorflow.python.keras import backend as K"
   ]
  },
  {
   "cell_type": "code",
   "execution_count": null,
   "metadata": {
    "id": "uBMIrakkznZa"
   },
   "outputs": [],
   "source": [
    "# Cerrar todas las sesiones existentes de Keras\n",
    "K.clear_session()"
   ]
  },
  {
   "cell_type": "markdown",
   "metadata": {
    "id": "F6Z9j1S1_viq"
   },
   "source": [
    "# Path de dataset"
   ]
  },
  {
   "cell_type": "code",
   "execution_count": null,
   "metadata": {
    "id": "GKMZF8F-zpCk"
   },
   "outputs": [],
   "source": [
    "# Importar lodos los datos desde el directorio\n",
    "data_entrenamiento = '/content/drive/MyDrive/data/entrenamiento'\n",
    "data_validacion = '/content/drive/MyDrive/data/validacion'"
   ]
  },
  {
   "cell_type": "markdown",
   "metadata": {
    "id": "4ghoF02J_nhw"
   },
   "source": [
    "# Configuración de parámetros"
   ]
  },
  {
   "cell_type": "code",
   "execution_count": null,
   "metadata": {
    "id": "Oh8XcPeN0Crp"
   },
   "outputs": [],
   "source": [
    "# Parámetros\n",
    "\n",
    "# Número de veces vamos a iterar sobre los datos:\n",
    "epocas=20\n",
    "# Definir tamaño para todas la imágenes:\n",
    "longitud, altura = 150, 150\n",
    "# Número de imágenes que ingresan al proceso en cada uno de los pasos:\n",
    "batch_size = 32\n",
    "# Número de veces que se procesa la información en cada una de las épocas:\n",
    "pasos = 300\n",
    "# Se va a evaluar después de cada época con los dats de evaluación\n",
    "validation_steps = 400\n",
    "# Número de clases o etiquetas\n",
    "clases = 6"
   ]
  },
  {
   "cell_type": "markdown",
   "metadata": {
    "id": "m3kr-zSj_zBY"
   },
   "source": [
    "# Generador de imágenes (entrenamiento y validación)"
   ]
  },
  {
   "cell_type": "code",
   "execution_count": null,
   "metadata": {
    "colab": {
     "base_uri": "https://localhost:8080/"
    },
    "id": "LfAg_awV0CpX",
    "outputId": "b468cc20-3515-4ddb-b9f1-383e3fc796d9"
   },
   "outputs": [
    {
     "name": "stdout",
     "output_type": "stream",
     "text": [
      "Found 3324 images belonging to 6 classes.\n",
      "Found 840 images belonging to 6 classes.\n"
     ]
    }
   ],
   "source": [
    "# Pre procesamiento de las imagenes\n",
    "\n",
    "# Normalización\n",
    "entrenamiento_datagen = ImageDataGenerator(\n",
    "    rescale=1. / 255,\n",
    "    shear_range=0.2,\n",
    "    zoom_range=0.2,\n",
    "    horizontal_flip=True)\n",
    "\n",
    "validacion_data = ImageDataGenerator(rescale=1. / 255)\n",
    "\n",
    "#Aumento de datos\n",
    "#Variables para controlar las transformaciones que se haran en el aumento de datos\n",
    "#utilizando ImageDataGenerator de keras\n",
    "imagen_entrenamiento = entrenamiento_datagen.flow_from_directory(\n",
    "    data_entrenamiento,             # Directorio\n",
    "    target_size=(altura, longitud), #Tamaño de las imágenes\n",
    "    batch_size=batch_size,          \n",
    "    class_mode='categorical')       # Clasificación categorica (etiquetas)\n",
    "\n",
    "imagen_validación = validacion_data.flow_from_directory(\n",
    "    data_validacion,\n",
    "    target_size=(altura, longitud),\n",
    "    batch_size=batch_size,\n",
    "    class_mode='categorical')"
   ]
  },
  {
   "cell_type": "markdown",
   "metadata": {
    "id": "R7E3goMe_Je_"
   },
   "source": [
    "# Numero de imagenes de entrenamiento y validación"
   ]
  },
  {
   "cell_type": "code",
   "execution_count": null,
   "metadata": {
    "id": "vtrv_5e__Kz0"
   },
   "outputs": [],
   "source": [
    "nb_train_samples = 3324\n",
    "nb_validation_samples = 840"
   ]
  },
  {
   "cell_type": "markdown",
   "metadata": {
    "id": "HJqujbIC_9Vo"
   },
   "source": [
    "# Creación y entrenamiento de modelo CNN"
   ]
  },
  {
   "cell_type": "code",
   "execution_count": null,
   "metadata": {
    "id": "1rhhMdih0CnH"
   },
   "outputs": [],
   "source": [
    "#Modelo\n",
    "cnn = Sequential()\n",
    "cnn.add(Convolution2D(32, (3,3), padding =\"same\", input_shape=(longitud, altura, 3), activation='relu'))  #Capa de convolución\n",
    "cnn.add(MaxPooling2D(pool_size=(2,2)))    #Maxpooling\n",
    "\n",
    "cnn.add(Convolution2D(64, 2,2, padding =\"same\"))\n",
    "cnn.add(MaxPooling2D(pool_size=(2,2)))\n",
    "\n",
    "# Archivo plano\n",
    "cnn.add(Flatten())\n",
    "# Capas densas\n",
    "cnn.add(Dense(256, activation='relu'))\n",
    "cnn.add(Dropout(0.5))\n",
    "cnn.add(Dense(clases, activation='softmax'))\n",
    "#Compilación\n",
    "cnn.compile(loss='categorical_crossentropy',\n",
    "            optimizer='Adam',\n",
    "            metrics=['accuracy'])"
   ]
  },
  {
   "cell_type": "code",
   "execution_count": null,
   "metadata": {
    "colab": {
     "base_uri": "https://localhost:8080/"
    },
    "id": "p1HHQl3T0CkJ",
    "outputId": "bafe742b-cf35-484a-bb04-f7680f2e41e9"
   },
   "outputs": [
    {
     "name": "stderr",
     "output_type": "stream",
     "text": [
      "/usr/local/lib/python3.7/dist-packages/tensorflow/python/keras/engine/training.py:1963: UserWarning: `Model.fit_generator` is deprecated and will be removed in a future version. Please use `Model.fit`, which supports generators.\n",
      "  warnings.warn('`Model.fit_generator` is deprecated and '\n"
     ]
    },
    {
     "name": "stdout",
     "output_type": "stream",
     "text": [
      "Epoch 1/20\n",
      "300/300 [==============================] - 811s 3s/step - loss: 1.5618 - accuracy: 0.3932 - val_loss: 1.2433 - val_accuracy: 0.5396\n",
      "Epoch 2/20\n",
      "300/300 [==============================] - 304s 1s/step - loss: 1.2787 - accuracy: 0.5102 - val_loss: 1.1306 - val_accuracy: 0.5731\n",
      "Epoch 3/20\n",
      "300/300 [==============================] - 304s 1s/step - loss: 1.1270 - accuracy: 0.5714 - val_loss: 1.1306 - val_accuracy: 0.5995\n",
      "Epoch 4/20\n",
      "300/300 [==============================] - 302s 1s/step - loss: 1.0195 - accuracy: 0.6198 - val_loss: 1.1333 - val_accuracy: 0.6231\n",
      "Epoch 5/20\n",
      "300/300 [==============================] - 301s 1s/step - loss: 0.9058 - accuracy: 0.6583 - val_loss: 1.2390 - val_accuracy: 0.6069\n",
      "Epoch 6/20\n",
      "300/300 [==============================] - 300s 1s/step - loss: 0.8126 - accuracy: 0.7023 - val_loss: 1.0958 - val_accuracy: 0.6350\n",
      "Epoch 7/20\n",
      "300/300 [==============================] - 300s 1s/step - loss: 0.7213 - accuracy: 0.7373 - val_loss: 1.2567 - val_accuracy: 0.6309\n",
      "Epoch 8/20\n",
      "300/300 [==============================] - 299s 998ms/step - loss: 0.6414 - accuracy: 0.7707 - val_loss: 1.1701 - val_accuracy: 0.6516\n",
      "Epoch 9/20\n",
      "300/300 [==============================] - 298s 994ms/step - loss: 0.5591 - accuracy: 0.8007 - val_loss: 1.3844 - val_accuracy: 0.6314\n",
      "Epoch 10/20\n",
      "300/300 [==============================] - 298s 995ms/step - loss: 0.4991 - accuracy: 0.8227 - val_loss: 1.3889 - val_accuracy: 0.6092\n",
      "Epoch 11/20\n",
      "300/300 [==============================] - 318s 1s/step - loss: 0.4495 - accuracy: 0.8408 - val_loss: 1.4366 - val_accuracy: 0.6547\n",
      "Epoch 12/20\n",
      "300/300 [==============================] - 301s 1s/step - loss: 0.4037 - accuracy: 0.8549 - val_loss: 1.4769 - val_accuracy: 0.6526\n",
      "Epoch 13/20\n",
      "300/300 [==============================] - 296s 988ms/step - loss: 0.3774 - accuracy: 0.8676 - val_loss: 1.6998 - val_accuracy: 0.6141\n",
      "Epoch 14/20\n",
      "300/300 [==============================] - 294s 980ms/step - loss: 0.3817 - accuracy: 0.8678 - val_loss: 1.5441 - val_accuracy: 0.6479\n",
      "Epoch 15/20\n",
      "300/300 [==============================] - 295s 984ms/step - loss: 0.3350 - accuracy: 0.8824 - val_loss: 1.5044 - val_accuracy: 0.6505\n",
      "Epoch 16/20\n",
      "300/300 [==============================] - 297s 991ms/step - loss: 0.3037 - accuracy: 0.8960 - val_loss: 1.7178 - val_accuracy: 0.6576\n",
      "Epoch 17/20\n",
      "300/300 [==============================] - 294s 981ms/step - loss: 0.2925 - accuracy: 0.8987 - val_loss: 1.5947 - val_accuracy: 0.6328\n",
      "Epoch 18/20\n",
      "300/300 [==============================] - 294s 983ms/step - loss: 0.2686 - accuracy: 0.9086 - val_loss: 1.6664 - val_accuracy: 0.6299\n",
      "Epoch 19/20\n",
      "300/300 [==============================] - 295s 985ms/step - loss: 0.2580 - accuracy: 0.9084 - val_loss: 1.7496 - val_accuracy: 0.6230\n",
      "Epoch 20/20\n",
      "300/300 [==============================] - 294s 982ms/step - loss: 0.2568 - accuracy: 0.9144 - val_loss: 1.8470 - val_accuracy: 0.6289\n"
     ]
    }
   ],
   "source": [
    "model_history =cnn.fit_generator(\n",
    "    imagen_entrenamiento,\n",
    "    steps_per_epoch=pasos,\n",
    "    epochs=epocas,\n",
    "    validation_data=imagen_validación,\n",
    "    validation_steps=validation_steps)"
   ]
  },
  {
   "cell_type": "code",
   "execution_count": null,
   "metadata": {
    "id": "2QHD2ReT1N45"
   },
   "outputs": [],
   "source": [
    "# Se guardan en la carpeta \"modelo\"\n",
    "target_dir = './modelo/'\n",
    "if not os.path.exists(target_dir):\n",
    "  os.mkdir(target_dir)\n",
    "cnn.save('./modelo/modelo.h5')\n",
    "cnn.save_weights('./modelo/pesos.h5') "
   ]
  },
  {
   "cell_type": "code",
   "execution_count": null,
   "metadata": {
    "id": "k1jsCDqCVxGs"
   },
   "outputs": [],
   "source": [
    "import matplotlib.pyplot as plt\n",
    "from sklearn.utils import shuffle\n",
    "\n",
    "def plotTraining(hist, epochs, typeData):  \n",
    "  if typeData==\"loss\":\n",
    "      plt.figure(1,figsize=(10,5))\n",
    "      yc=hist.history['loss']\n",
    "      xc=range(epochs)\n",
    "      plt.ylabel('Loss', fontsize=24)\n",
    "      plt.plot(xc,yc,'-r',label='Loss Training')\n",
    "  if typeData==\"accuracy\":\n",
    "      plt.figure(2,figsize=(10,5))\n",
    "      yc=hist.history['accuracy']\n",
    "      for i in range(0, len(yc)):\n",
    "          yc[i]=100*yc[i]\n",
    "      xc=range(epochs)\n",
    "      plt.ylabel('Accuracy (%)', fontsize=24)\n",
    "      plt.plot(xc,yc,'-r',label='Accuracy Training')\n",
    "  if typeData==\"val_loss\":\n",
    "      plt.figure(1,figsize=(10,5))\n",
    "      yc=hist.history['val_loss']\n",
    "      xc=range(epochs)\n",
    "      plt.ylabel('Loss', fontsize=24)\n",
    "      plt.plot(xc,yc,'--b',label='Loss Validate')\n",
    "  if typeData==\"val_accuracy\":\n",
    "      plt.figure(2,figsize=(10,5))\n",
    "      yc=hist.history['val_accuracy']\n",
    "      for i in range(0, len(yc)):\n",
    "          yc[i]=100*yc[i]\n",
    "      xc=range(epochs)\n",
    "      plt.ylabel('Accuracy (%)', fontsize=24)\n",
    "      plt.plot(xc,yc,'--b',label='Training Validate')\n",
    "\n",
    "\n",
    "  plt.rc('xtick',labelsize=24)\n",
    "  plt.rc('ytick',labelsize=24)\n",
    "  plt.rc('legend', fontsize=18) \n",
    "  plt.legend()\n",
    "  plt.xlabel('Number of Epochs',fontsize=24)\n",
    "  plt.grid(True)\n"
   ]
  },
  {
   "cell_type": "code",
   "execution_count": null,
   "metadata": {
    "colab": {
     "base_uri": "https://localhost:8080/",
     "height": 693
    },
    "id": "8XxrmuUp0S3F",
    "outputId": "43d6cd72-24fa-4c81-db11-ce6bbe741569"
   },
   "outputs": [
    {
     "data": {
      "image/png": "[encoded data removed]",
      "text/plain": [
       "<Figure size 720x360 with 1 Axes>"
      ]
     },
     "metadata": {
      "needs_background": "light"
     },
     "output_type": "display_data"
    },
    {
     "data": {
      "image/png": "[encoded data removed]",
      "text/plain": [
       "<Figure size 720x360 with 1 Axes>"
      ]
     },
     "metadata": {
      "needs_background": "light"
     },
     "output_type": "display_data"
    }
   ],
   "source": [
    "plotTraining(model_history,20,\"loss\")\n",
    "plotTraining(model_history,20,\"accuracy\")\n",
    "plotTraining(model_history,20,\"val_loss\")\n",
    "plotTraining(model_history,20,\"val_accuracy\")"
   ]
  },
  {
   "cell_type": "markdown",
   "metadata": {
    "id": "1Gcr_MND00Mv"
   },
   "source": [
    "# Matriz de confusión y métricas de desempeño"
   ]
  },
  {
   "cell_type": "code",
   "execution_count": null,
   "metadata": {
    "colab": {
     "base_uri": "https://localhost:8080/",
     "height": 882
    },
    "id": "-4YIxXw40z5Q",
    "outputId": "d9d616dc-5e57-4112-f050-ccf98dacb238"
   },
   "outputs": [
    {
     "name": "stdout",
     "output_type": "stream",
     "text": [
      "Found 840 images belonging to 6 classes.\n"
     ]
    },
    {
     "name": "stderr",
     "output_type": "stream",
     "text": [
      "/usr/local/lib/python3.7/dist-packages/ipykernel_launcher.py:24: UserWarning: `Model.predict_generator` is deprecated and will be removed in a future version. Please use `Model.predict`, which supports generators.\n"
     ]
    },
    {
     "name": "stdout",
     "output_type": "stream",
     "text": [
      "              precision    recall  f1-score   support\n",
      "\n",
      "           0     0.2976    0.1786    0.2232       140\n",
      "           1     0.4396    0.9357    0.5982       140\n",
      "           2     0.5000    0.6286    0.5570       140\n",
      "           3     0.8732    0.4429    0.5877       140\n",
      "           4     0.7826    0.2571    0.3871       140\n",
      "           5     0.4727    0.5571    0.5115       140\n",
      "\n",
      "    accuracy                         0.5000       840\n",
      "   macro avg     0.5610    0.5000    0.4774       840\n",
      "weighted avg     0.5610    0.5000    0.4774       840\n",
      "\n"
     ]
    },
    {
     "data": {
      "image/png": "[encoded data removed]",
      "text/plain": [
       "<Figure size 576x576 with 1 Axes>"
      ]
     },
     "metadata": {
      "needs_background": "light"
     },
     "output_type": "display_data"
    }
   ],
   "source": [
    "from sklearn.metrics import confusion_matrix, f1_score, roc_curve, precision_score, recall_score, accuracy_score, roc_auc_score\n",
    "from sklearn import metrics\n",
    "from mlxtend.plotting import plot_confusion_matrix\n",
    "from keras.models import load_model\n",
    "import numpy as np\n",
    "import matplotlib.pyplot as plt\n",
    "%matplotlib inline\n",
    "\n",
    "names=['Gato', 'Gallina', 'Perro', 'Pex', 'Conejo', 'Araña']\n",
    "test_data_dir = '/content/drive/MyDrive/data/pruebas'  \n",
    "\n",
    "test_datagen = ImageDataGenerator()\n",
    "\n",
    "test_generator = test_datagen.flow_from_directory(\n",
    "    test_data_dir,\n",
    "    target_size=(150, 150), \n",
    "    batch_size = batch_size,\n",
    "    class_mode='categorical', \n",
    "    shuffle=False)\n",
    "\n",
    "custom_Model= load_model(\"./modelo/modelo.h5\")\n",
    "#modelt = custom_model\n",
    "\n",
    "predictions = custom_Model.predict_generator(generator=test_generator)\n",
    "\n",
    "y_pred = np.argmax(predictions, axis=1)\n",
    "y_real = test_generator.classes\n",
    "\n",
    "\n",
    "matc=confusion_matrix(y_real, y_pred)\n",
    "\n",
    "plot_confusion_matrix(conf_mat=matc, figsize=(8,8), show_normed=False)\n",
    "plt.tight_layout()\n",
    "\n",
    "print(metrics.classification_report(y_real,y_pred, digits = 4))"
   ]
  },
  {
   "cell_type": "markdown",
   "metadata": {
    "id": "TXncMVzJ0nfX"
   },
   "source": [
    "#PREDICCIÓN"
   ]
  },
  {
   "cell_type": "code",
   "execution_count": null,
   "metadata": {
    "id": "8bQs44cm0U4M"
   },
   "outputs": [],
   "source": [
    "import numpy as np\n",
    "from keras.preprocessing.image import load_img, img_to_array\n",
    "from keras.models import load_model"
   ]
  },
  {
   "cell_type": "code",
   "execution_count": null,
   "metadata": {
    "id": "PV3JbAHf0p5U"
   },
   "outputs": [],
   "source": [
    "longitud, altura = 150, 150\n",
    "modelo = './modelo/modelo.h5'\n",
    "pesos_modelo = './modelo/pesos.h5'\n",
    "cnn = load_model(modelo)\n",
    "cnn.load_weights(pesos_modelo)\n"
   ]
  },
  {
   "cell_type": "code",
   "execution_count": null,
   "metadata": {
    "colab": {
     "base_uri": "https://localhost:8080/"
    },
    "id": "7p8E1F1j0rkl",
    "outputId": "5329898e-e25d-4d63-af51-587c9b7e9b14"
   },
   "outputs": [
    {
     "name": "stdout",
     "output_type": "stream",
     "text": [
      "pred: Araña\n"
     ]
    },
    {
     "data": {
      "text/plain": [
       "5"
      ]
     },
     "execution_count": 16,
     "metadata": {},
     "output_type": "execute_result"
    }
   ],
   "source": [
    "def predict(file):\n",
    "  x = load_img(file, target_size=(longitud, altura))\n",
    "  x = img_to_array(x)\n",
    "  x = np.expand_dims(x, axis=0)\n",
    "  array = cnn.predict(x)\n",
    "  result = array[0]\n",
    "  answer = np.argmax(result)\n",
    "  if answer == 0:\n",
    "    print(\"pred: Gato\")\n",
    "  elif answer == 1:\n",
    "    print(\"pred: Gallina\")\n",
    "  elif answer == 2:\n",
    "    print(\"pred: Perro\")\n",
    "  elif answer == 3:\n",
    "    print(\"pred: Pex\")\n",
    "  elif answer == 4:\n",
    "    print(\"pred: Conejo\")\n",
    "  elif answer == 5:\n",
    "    print(\"pred: Araña\")\n",
    "\n",
    "  return answer\n",
    "\n",
    "\n",
    "img = '/content/drive/MyDrive/data/pruebas/Ragno/ea37b20c2ff1013ed1584d05fb1d4e9fe777ead218ac104497f5c97ca5edb3bd_640.jpg'\n",
    "predict(img)"
   ]
  }
 ],
 "metadata": {
  "accelerator": "GPU",
  "colab": {
   "collapsed_sections": [],
   "name": "[NRC_8888] RogerSantos_ProyectoFinal",
   "provenance": []
  },
  "kernelspec": {
   "display_name": "Python 3 (ipykernel)",
   "language": "python",
   "name": "python3"
  },
  "language_info": {
   "codemirror_mode": {
    "name": "ipython",
    "version": 3
   },
   "file_extension": ".py",
   "mimetype": "text/x-python",
   "name": "python",
   "nbconvert_exporter": "python",
   "pygments_lexer": "ipython3",
   "version": "3.9.12"
  }
 },
 "nbformat": 4,
 "nbformat_minor": 1
}
